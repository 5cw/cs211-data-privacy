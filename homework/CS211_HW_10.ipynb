{
 "cells": [
  {
   "cell_type": "markdown",
   "metadata": {},
   "source": [
    "# CS211: Data Privacy\n",
    "## Homework 10"
   ]
  },
  {
   "cell_type": "code",
   "execution_count": null,
   "metadata": {},
   "outputs": [],
   "source": [
    "# Load the data and libraries\n",
    "import pandas as pd\n",
    "import numpy as np\n",
    "import random\n",
    "from scipy import stats\n",
    "import matplotlib.pyplot as plt\n",
    "plt.style.use('seaborn-whitegrid')\n",
    "\n",
    "def laplace_mech(v, sensitivity, epsilon):\n",
    "    return v + np.random.laplace(loc=0, scale=sensitivity / epsilon)\n",
    "\n",
    "def laplace_mech_vec(vec, sensitivity, epsilon):\n",
    "    return [v + np.random.laplace(loc=0, scale=sensitivity / epsilon) for v in vec]\n",
    "\n",
    "def gaussian_mech(v, sensitivity, epsilon, delta):\n",
    "    return v + np.random.normal(loc=0, scale=sensitivity * np.sqrt(2*np.log(1.25/delta)) / epsilon)\n",
    "\n",
    "def gaussian_mech_vec(vec, sensitivity, epsilon, delta):\n",
    "    return [v + np.random.normal(loc=0, scale=sensitivity * np.sqrt(2*np.log(1.25/delta)) / epsilon)\n",
    "            for v in vec]\n",
    "\n",
    "def pct_error(orig, priv):\n",
    "    return np.abs(orig - priv)/orig * 100.0\n",
    "\n",
    "adult = pd.read_csv('https://github.com/jnear/cs211-data-privacy/raw/master/homework/adult_with_pii.csv')"
   ]
  },
  {
   "cell_type": "markdown",
   "metadata": {},
   "source": [
    "## Question 1 (20 points)\n",
    "\n",
    "Implement a function to generate synthetic data for a single column `col` of the Adult dataset. You should use a private one-way marginal. Your function should take four arguments:\n",
    "\n",
    "- *col*: the name of the column to generate synthetic data for\n",
    "- *domain*: a list of possible values occurring in the column (the column's domain)\n",
    "- *n*: the number of synthetic data samples to generate\n",
    "- *epsilon*: the privacy parameter to use\n",
    "\n",
    "Your function should satisfy $\\epsilon$-differential privacy.\n",
    "\n",
    "*Hint*: follow the exercise from 11/15/2021."
   ]
  },
  {
   "cell_type": "code",
   "execution_count": null,
   "metadata": {
    "deletable": false,
    "nbgrader": {
     "cell_type": "code",
     "checksum": "d09fb66f14bfb681c02c49683ecef708",
     "grade": false,
     "grade_id": "cell-6fec45bd91e81fcb",
     "locked": false,
     "schema_version": 3,
     "solution": true,
     "task": false
    }
   },
   "outputs": [],
   "source": [
    "age_domain = range(1,100)\n",
    "occupation_domain = adult['Occupation'].dropna().unique()\n",
    "education_num_domain = adult['Education-Num'].dropna().unique()\n",
    "capital_gain_domain = range(0, 100000, 1000)\n",
    "\n",
    "def gen_data_one_column(col, domain, n, epsilon):\n",
    "    # YOUR CODE HERE\n",
    "    raise NotImplementedError()\n",
    "\n",
    "data = gen_data_one_column('Age', age_domain, 30000, 1.0)\n",
    "plt.hist(data, bins=40);"
   ]
  },
  {
   "cell_type": "code",
   "execution_count": null,
   "metadata": {
    "deletable": false,
    "editable": false,
    "nbgrader": {
     "cell_type": "code",
     "checksum": "b5264a9d55ed31117a5fc19cf7dec347",
     "grade": true,
     "grade_id": "cell-d09eafd6034c6ba8",
     "locked": true,
     "points": 20,
     "schema_version": 3,
     "solution": false,
     "task": false
    }
   },
   "outputs": [],
   "source": [
    "# TEST CASE\n",
    "\n",
    "def run_one_test(col, domain):\n",
    "    data = pd.Series(gen_data_one_column(col, domain, len(adult), 1.0))\n",
    "    \n",
    "    true_answer = np.array([len(adult[adult[col] == x]) for x in domain])\n",
    "    syn_answer = np.array([len(data[data == x]) for x in domain])\n",
    "    dist = np.linalg.norm(true_answer - syn_answer, ord=1)\n",
    "    print('Column:', col, '-- L1 distance:', dist)\n",
    "    assert dist > 0\n",
    "    assert dist < 5000\n",
    "\n",
    "run_one_test('Age', age_domain)\n",
    "run_one_test('Occupation', occupation_domain)\n",
    "run_one_test('Education-Num', education_num_domain)\n",
    "run_one_test('Capital Gain', capital_gain_domain)"
   ]
  },
  {
   "cell_type": "markdown",
   "metadata": {},
   "source": [
    "## Question 2 (20 points)\n",
    "\n",
    "Implement a function to generate synthetic data for two columns `col1` and `col2` of the Adult dataset. You should use *two private one-way marginals*.\n",
    "\n",
    "Your function should satisfy $\\epsilon$-differential privacy.\n",
    "\n",
    "*Hint*: you can call `gen_data_one_column` to generate data for a single column\n",
    "\n",
    "*Hint*: you can use `pd.DataFrame(zip(data1, data2), columns=[col1, col2])` to create a dataframe using two lists called `data1` and `data2`"
   ]
  },
  {
   "cell_type": "code",
   "execution_count": null,
   "metadata": {
    "deletable": false,
    "nbgrader": {
     "cell_type": "code",
     "checksum": "df0686507717d3a92208218cd8e5542d",
     "grade": false,
     "grade_id": "cell-18115a1f11cee4fe",
     "locked": false,
     "schema_version": 3,
     "solution": true,
     "task": false
    }
   },
   "outputs": [],
   "source": [
    "def gen_data_two_column(col1, domain1, col2, domain2, n, epsilon):\n",
    "    # YOUR CODE HERE\n",
    "    raise NotImplementedError()\n",
    "\n",
    "gen_data_two_column('Age', age_domain, 'Occupation', occupation_domain, 10, 1.0)"
   ]
  },
  {
   "cell_type": "code",
   "execution_count": null,
   "metadata": {
    "deletable": false,
    "editable": false,
    "nbgrader": {
     "cell_type": "code",
     "checksum": "9b2ead165c588b111bae2bef64090c0c",
     "grade": true,
     "grade_id": "cell-075e2e3ffcd75d0c",
     "locked": true,
     "points": 20,
     "schema_version": 3,
     "solution": false,
     "task": false
    }
   },
   "outputs": [],
   "source": [
    "# TEST CASE\n",
    "\n",
    "data = gen_data_two_column('Education-Num', education_num_domain, 'Capital Gain', capital_gain_domain, 30000, 1.0)\n",
    "correlation = data.corr()['Education-Num'][1]\n",
    "print('Synthetic data, correlation coefficient:', correlation)\n",
    "print('Real data, correlation coefficient:', adult[['Education-Num', 'Capital Gain']].corr()['Education-Num'][1])\n",
    "assert correlation < 0.01"
   ]
  },
  {
   "cell_type": "markdown",
   "metadata": {},
   "source": [
    "## Question 3 (10 points)\n",
    "\n",
    "What is the problem with the \"two one-way marginals\" approach you implemented in \"gen_data_two_column\"? How does the synthetic data you generated fail to model the true underlying data, and why does this happen?"
   ]
  },
  {
   "cell_type": "markdown",
   "metadata": {
    "deletable": false,
    "nbgrader": {
     "cell_type": "markdown",
     "checksum": "0cdfc309dbcda0da47b651dd9b591c8a",
     "grade": true,
     "grade_id": "cell-1ac8da0b6f2819bd",
     "locked": false,
     "points": 10,
     "schema_version": 3,
     "solution": true,
     "task": false
    }
   },
   "source": [
    "YOUR ANSWER HERE"
   ]
  },
  {
   "cell_type": "markdown",
   "metadata": {},
   "source": [
    "## Question 4 (10 points)\n",
    "\n",
    "Consider the use of a *two-way marginal* for generating two-column synthetic data.\n",
    "\n",
    "- What are the advantages of this approach?\n",
    "- What are the disadvantages of this approach?"
   ]
  },
  {
   "cell_type": "markdown",
   "metadata": {
    "deletable": false,
    "nbgrader": {
     "cell_type": "markdown",
     "checksum": "5ddc3ac47362d0dd419350d81238f54e",
     "grade": true,
     "grade_id": "cell-8680bb7ed3db3a23",
     "locked": false,
     "points": 10,
     "schema_version": 3,
     "solution": true,
     "task": false
    }
   },
   "source": [
    "YOUR ANSWER HERE"
   ]
  },
  {
   "cell_type": "markdown",
   "metadata": {},
   "source": [
    "## Question 5 (10 points)\n",
    "\n",
    "In 3-5 sentences each, answer the following:\n",
    "\n",
    "- Describe a method for constructing synthetic data with $m$ columns\n",
    "- What are the advantages of your approach?\n",
    "- What are the disadvantages of your approach?"
   ]
  },
  {
   "cell_type": "markdown",
   "metadata": {
    "deletable": false,
    "nbgrader": {
     "cell_type": "markdown",
     "checksum": "121c4bd7ddc31b4bd71564de645c564d",
     "grade": true,
     "grade_id": "cell-eb7c7baa1d2d5ea4",
     "locked": false,
     "points": 10,
     "schema_version": 3,
     "solution": true,
     "task": false
    }
   },
   "source": [
    "YOUR ANSWER HERE"
   ]
  }
 ],
 "metadata": {
  "kernelspec": {
   "display_name": "Python 3 (ipykernel)",
   "language": "python",
   "name": "python3"
  },
  "language_info": {
   "codemirror_mode": {
    "name": "ipython",
    "version": 3
   },
   "file_extension": ".py",
   "mimetype": "text/x-python",
   "name": "python",
   "nbconvert_exporter": "python",
   "pygments_lexer": "ipython3",
   "version": "3.8.11"
  }
 },
 "nbformat": 4,
 "nbformat_minor": 4
}
