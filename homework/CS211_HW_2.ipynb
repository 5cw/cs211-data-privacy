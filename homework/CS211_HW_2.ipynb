{
 "cells": [
  {
   "cell_type": "markdown",
   "metadata": {
    "pycharm": {
     "name": "#%% md\n"
    }
   },
   "source": [
    "# CS211: Data Privacy\n",
    "## Homework 2"
   ]
  },
  {
   "cell_type": "code",
   "execution_count": 2,
   "metadata": {
    "pycharm": {
     "name": "#%%\n"
    }
   },
   "outputs": [],
   "source": [
    "# Load the data and libraries\n",
    "import pandas as pd\n",
    "import numpy as np\n",
    "\n",
    "adult = pd.read_csv('')\n",
    "adult = adult.dropna()"
   ],
   "metadata": {
    "collapsed": false,
    "pycharm": {
     "name": "#%%\n"
    }
   }
  },
  {
   "cell_type": "markdown",
   "source": [
    "## Question 1 (20 points)\n",
    "\n",
    "Implement a more efficient version of `is_k_anonymous`. The inefficient implementation, taken from the textbook, appears below.\n",
    "\n",
    "**Hint**: use the [`value_counts`](https://pandas.pydata.org/pandas-docs/stable/reference/api/pandas.Series.value_counts.html) or `group_by` functions, and make sure no count is less than $k$."
   ],
   "metadata": {
    "collapsed": false,
    "pycharm": {
     "name": "#%% md\n"
    }
   }
  },
  {
   "cell_type": "code",
   "execution_count": null,
   "outputs": [],
   "source": [
    "# Checking for k-Anonymity, taken from the textbook\n",
    "# def is_k_anonymous(k, qis, df):\n",
    "#     for index, row in df.iterrows():\n",
    "#         query = ' & '.join([f'`{col}` == \"{row[col]}\"' for col in qis])\n",
    "#         rows = df.query(query)\n",
    "#         if (rows.shape[0] < k):\n",
    "#             return False\n",
    "#     return True\n",
    "adult['Occupation'].value_counts()"
   ],
   "metadata": {
    "collapsed": false,
    "pycharm": {
     "name": "#%%\n"
    }
   }
  },
  {
   "cell_type": "code",
   "execution_count": null,
   "outputs": [],
   "source": [
    "# Checking for k-anonymity more efficiently\n",
    "def is_k_anonymous(k, qis, df):\n",
    "    \"\"\"Returns true if df satisfies k-Anonymity for the quasi-identifiers \n",
    "    qis. Returns false otherwise.\"\"\"\n",
    "    return min(df.value_counts(qis)) >= k"
   ],
   "metadata": {
    "collapsed": false,
    "pycharm": {
     "name": "#%%\n"
    }
   }
  },
  {
   "cell_type": "code",
   "execution_count": null,
   "outputs": [],
   "source": [
    "# TEST CASES for question 1\n",
    "\n",
    "assert not is_k_anonymous(2, ['Age'], adult)\n",
    "assert is_k_anonymous(1, ['Age'], adult)\n",
    "assert is_k_anonymous(1, ['Age', 'Occupation'], adult)"
   ],
   "metadata": {
    "collapsed": false,
    "pycharm": {
     "name": "#%%\n"
    }
   }
  },
  {
   "cell_type": "markdown",
   "source": [
    "## Question 2 (10 points)\n",
    "\n",
    "Consider the definition of `generalize` below, taken from the textbook. The function takes a dataframe `df` and a dictionary `depths` that describes how much to generalize each column of `df`. Generalizing a column to a depth of $n$ replaces the $n$ least-significant digits of each number in that column by zeroes. For example, we could generalize column `A` by making its least-significant digit a 0 and column `B` by doing the same for 2 digits with the following depth specification:"
   ],
   "metadata": {
    "collapsed": false,
    "pycharm": {
     "name": "#%% md\n"
    }
   }
  },
  {
   "cell_type": "code",
   "execution_count": null,
   "outputs": [],
   "source": [
    "depths = {\n",
    "    'A': 1,\n",
    "    'B': 2\n",
    "}\n"
   ],
   "metadata": {
    "collapsed": false,
    "pycharm": {
     "name": "#%%\n"
    }
   }
  },
  {
   "cell_type": "code",
   "execution_count": null,
   "outputs": [],
   "source": [
    "def generalize(df, depths):\n",
    "    return df.apply(lambda x: x.apply(lambda y: int(int(y/(10**depths[x.name]))*(10**depths[x.name]))))"
   ],
   "metadata": {
    "collapsed": false,
    "pycharm": {
     "name": "#%%\n"
    }
   }
  },
  {
   "cell_type": "markdown",
   "source": [
    "Using the `generalize` function, generalize the `Age` column of the `adult` dataset to a depth of 1. Drop the other columns of the dataset. Your result should achieve $k$-Anonymity for $k=20$."
   ],
   "metadata": {
    "collapsed": false,
    "pycharm": {
     "name": "#%% md\n"
    }
   }
  },
  {
   "cell_type": "code",
   "execution_count": null,
   "outputs": [],
   "source": [
    "def generalize_adult_age():\n",
    "    depths = {\n",
    "        'Age': 1\n",
    "    }\n",
    "    \n",
    "    return generalize(adult[['Age']], depths)"
   ],
   "metadata": {
    "collapsed": false,
    "pycharm": {
     "name": "#%%\n"
    }
   }
  },
  {
   "cell_type": "code",
   "execution_count": null,
   "outputs": [],
   "source": [
    "assert is_k_anonymous(20, ['Age'], generalize_adult_age())"
   ],
   "metadata": {
    "collapsed": false,
    "pycharm": {
     "name": "#%%\n"
    }
   }
  },
  {
   "cell_type": "markdown",
   "source": [
    "## Question 3 (10 points)\n",
    "\n",
    "Using the `generalize` function, generalize the `Age` and `Zip` columns of the `adult` dataset in order to achieve $k$-Anonymity for $k=5$. Your result should drop other columns besides these two."
   ],
   "metadata": {
    "collapsed": false,
    "pycharm": {
     "name": "#%% md\n"
    }
   }
  },
  {
   "cell_type": "code",
   "execution_count": null,
   "outputs": [],
   "source": [
    "def generalize_adult_age_zip():\n",
    "    depths = {\n",
    "        'Age': 2,\n",
    "        'Zip': 2\n",
    "    }\n",
    "\n",
    "    return generalize(adult[['Age', 'Zip']], depths)"
   ],
   "metadata": {
    "collapsed": false,
    "pycharm": {
     "name": "#%%\n"
    }
   }
  },
  {
   "cell_type": "code",
   "execution_count": null,
   "outputs": [],
   "source": [
    "assert is_k_anonymous(5, ['Age', 'Zip'], generalize_adult_age_zip())"
   ],
   "metadata": {
    "collapsed": false,
    "pycharm": {
     "name": "#%%\n"
    }
   }
  },
  {
   "cell_type": "markdown",
   "source": [
    "## Question 4 (30 points)\n",
    "\n",
    "In 1-4 sentences each, answer the following:\n",
    "\n",
    "1. How much generalization was required to achieve $k=5$ in question 3?\n",
    "2. Does this level of generalization significantly impact the utility of the $k$-Anonymized data? Why or why not?\n",
    "3. Why is generalizing the `adult` dataset so challenging? (**Hint**: consider outliers)\n",
    "4. Is there another approach, in addition to our simple generalization method, that might work better?\n",
    "5. What is a simple method for generalizing the `Occupation` column?"
   ],
   "metadata": {
    "collapsed": false,
    "pycharm": {
     "name": "#%% md\n"
    }
   }
  },
  {
   "cell_type": "markdown",
   "source": [
    "1) Either enough to render age basically useless (losing 2 significant digits) or zip totally useless (losing 5 significant digits).\n",
    "2) Yes, if Age is something we're interested in learning something from, we need to preserve some information beyond is the person older or younger than 100.\n",
    "3) Because people are messy and unique and there are very often people who are dissimilar to anyone else and so will stand out even in a highly processed dataset.\n",
    "4) We could remove the outliers so that only the broader trends remain to analyze.\n",
    "5) Remove or consolidate armed-forces."
   ],
   "metadata": {
    "collapsed": false,
    "pycharm": {
     "name": "#%% md\n"
    }
   }
  }
 ],
 "metadata": {
  "kernelspec": {
   "display_name": "Python 3 (ipykernel)",
   "language": "python",
   "name": "python3"
  },
  "language_info": {
   "codemirror_mode": {
    "name": "ipython",
    "version": 3
   },
   "file_extension": ".py",
   "mimetype": "text/x-python",
   "name": "python",
   "nbconvert_exporter": "python",
   "pygments_lexer": "ipython3",
   "version": "3.8.11"
  }
 },
 "nbformat": 4,
 "nbformat_minor": 4
}