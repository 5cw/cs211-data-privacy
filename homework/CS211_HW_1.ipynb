{
 "cells": [
  {
   "cell_type": "markdown",
   "metadata": {
    "pycharm": {
     "name": "#%% md\n"
    }
   },
   "source": [
    "# CS211: Data Privacy\n",
    "## Homework 1"
   ]
  },
  {
   "cell_type": "code",
   "execution_count": 1,
   "metadata": {
    "pycharm": {
     "name": "#%%\n"
    }
   },
   "outputs": [],
   "source": [
    "# Load the data and libraries\n",
    "import pandas as pd\n",
    "import numpy as np\n",
    "\n",
    "adult = pd.read_csv('https://github.com/jnear/cs211-data-privacy/raw/master/homework/adult_with_pii.csv')\n",
    "adult_pii = adult[['Name', 'DOB', 'SSN', 'Zip', 'Age']]\n",
    "adult_deid = adult.drop(columns=['Name', 'SSN'])"
   ]
  },
  {
   "cell_type": "markdown",
   "metadata": {
    "pycharm": {
     "name": "#%% md\n"
    }
   },
   "source": [
    "## Question 1 (20 points)\n",
    "\n",
    "Using the dataframes `adult_pii` and `adult_deid`, write code to conduct a linking attack to recover the names of as many individuals in `adult_deid` as possible. Your solution should be parameterized by the set of columns to use in the attack."
   ]
  },
  {
   "cell_type": "code",
   "execution_count": 8,
   "metadata": {
    "deletable": false,
    "nbgrader": {
     "cell_type": "code",
     "checksum": "104cae26868ad3192fa4559d42c5a9bc",
     "grade": false,
     "grade_id": "cell-e6389ceace711c32",
     "locked": false,
     "schema_version": 3,
     "solution": true,
     "task": false
    },
    "pycharm": {
     "name": "#%%\n"
    }
   },
   "outputs": [],
   "source": [
    "def linking_attack(cols):\n",
    "    return adult_deid.merge(adult, on=cols)\n"
   ]
  },
  {
   "cell_type": "code",
   "execution_count": 9,
   "metadata": {
    "deletable": false,
    "editable": false,
    "nbgrader": {
     "cell_type": "code",
     "checksum": "a76869307e0cddfa2304385041c0d3af",
     "grade": true,
     "grade_id": "cell-251b9f1c6f7b4630",
     "locked": true,
     "points": 20,
     "schema_version": 3,
     "solution": false,
     "task": false
    },
    "pycharm": {
     "name": "#%%\n"
    }
   },
   "outputs": [],
   "source": [
    "# TEST CASES for Question 1\n",
    "\n",
    "assert len(linking_attack(['Zip'])) == 43191\n",
    "assert len(linking_attack(['Zip', 'DOB'])) == 32563\n",
    "assert len(linking_attack(['Zip', 'Age'])) == 32755"
   ]
  },
  {
   "cell_type": "markdown",
   "metadata": {
    "pycharm": {
     "name": "#%% md\n"
    }
   },
   "source": [
    "## Question 2 (5 points)\n",
    "\n",
    "How many individuals in this dataset are uniquely identified by their Zip code? How many are uniquely identified by their age?\n",
    "\n",
    "Hint: note that the number of *unique ZIP codes* is **different** from the number of *individuals uniquely identified by ZIP code*.\n",
    "\n",
    "Hint: you can use the `value_counts` method to count the number of occurences of each value in a series."
   ]
  },
  {
   "cell_type": "code",
   "execution_count": 18,
   "outputs": [],
   "source": [
    "def unique_zipcode():\n",
    "    return len(adult.value_counts(\"Zip\").loc[lambda x: x == 1])\n",
    "\n",
    "def unique_dob():\n",
    "    # YOUR CODE HERE\n",
    "    return len(adult.value_counts(\"DOB\").loc[lambda x: x == 1])"
   ],
   "metadata": {
    "collapsed": false,
    "pycharm": {
     "name": "#%%\n"
    }
   }
  },
  {
   "cell_type": "code",
   "execution_count": 19,
   "outputs": [
    {
     "name": "stdout",
     "output_type": "stream",
     "text": [
      "Zip\n",
      "68137    1\n",
      "73284    1\n",
      "68141    1\n",
      "73291    1\n",
      "71324    1\n",
      "        ..\n",
      "36771    1\n",
      "36765    1\n",
      "36761    1\n",
      "36758    1\n",
      "99999    1\n",
      "Length: 23513, dtype: int64\n"
     ]
    }
   ],
   "source": [
    "# TEST CASES (INCOMPLETE) for Question 2\n",
    "\n",
    "assert unique_zipcode() > 0\n",
    "assert unique_dob() > 0\n"
   ],
   "metadata": {
    "collapsed": false,
    "pycharm": {
     "name": "#%%\n"
    }
   }
  },
  {
   "cell_type": "markdown",
   "metadata": {
    "pycharm": {
     "name": "#%% md\n"
    }
   },
   "source": [
    "## Question 3 (10 points)\n",
    "\n",
    "Write code to determine the `Education-Num` of the individual named Ardyce Golby by performing a differencing attack. Your code should *only* use aggregate data to find Ardyce's education number."
   ]
  },
  {
   "cell_type": "code",
   "execution_count": 16,
   "metadata": {
    "deletable": false,
    "nbgrader": {
     "cell_type": "code",
     "checksum": "8df97903495b1e9b1994064fef277bdd",
     "grade": false,
     "grade_id": "cell-ef28e136429ae8c2",
     "locked": false,
     "schema_version": 3,
     "solution": true,
     "task": false
    },
    "pycharm": {
     "name": "#%%\n"
    }
   },
   "outputs": [],
   "source": [
    "def ardyce_education():\n",
    "    return adult['Education-Num'].sum() - adult[adult['Name'] != 'Ardyce Golby']['Education-Num'].sum()"
   ]
  },
  {
   "cell_type": "code",
   "execution_count": 17,
   "outputs": [],
   "source": [
    "# TEST CASE for Question 3\n",
    "assert ardyce_education() == 12"
   ],
   "metadata": {
    "collapsed": false,
    "pycharm": {
     "name": "#%%\n"
    }
   }
  },
  {
   "cell_type": "code",
   "execution_count": null,
   "outputs": [],
   "source": [],
   "metadata": {
    "collapsed": false,
    "pycharm": {
     "name": "#%%\n"
    }
   }
  }
 ],
 "metadata": {
  "kernelspec": {
   "display_name": "Python 3 (ipykernel)",
   "language": "python",
   "name": "python3"
  },
  "language_info": {
   "codemirror_mode": {
    "name": "ipython",
    "version": 3
   },
   "file_extension": ".py",
   "mimetype": "text/x-python",
   "name": "python",
   "nbconvert_exporter": "python",
   "pygments_lexer": "ipython3",
   "version": "3.8.11"
  }
 },
 "nbformat": 4,
 "nbformat_minor": 4
}