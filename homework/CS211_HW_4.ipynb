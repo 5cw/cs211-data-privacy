{
 "cells": [
  {
   "cell_type": "markdown",
   "metadata": {},
   "source": [
    "# CS211: Data Privacy\n",
    "## Homework 4"
   ]
  },
  {
   "cell_type": "code",
   "execution_count": 2,
   "metadata": {},
   "outputs": [],
   "source": [
    "# Load the data and libraries\n",
    "import pandas as pd\n",
    "import numpy as np\n",
    "from scipy import stats\n",
    "import matplotlib.pyplot as plt\n",
    "plt.style.use('seaborn-whitegrid')\n",
    "\n",
    "def laplace_mech(v, sensitivity, epsilon):\n",
    "    return v + np.random.laplace(loc=0, scale=sensitivity / epsilon)\n",
    "\n",
    "def pct_error(orig, priv):\n",
    "    return np.abs(orig - priv)/orig * 100.0\n",
    "\n",
    "adult = pd.read_csv('https://github.com/jnear/cs211-data-privacy/raw/master/homework/adult_with_pii.csv')"
   ]
  },
  {
   "cell_type": "code",
   "execution_count": null,
   "outputs": [],
   "source": [
    "adult['fnlwgt']"
   ],
   "metadata": {
    "collapsed": false,
    "pycharm": {
     "name": "#%%\n"
    }
   }
  },
  {
   "cell_type": "markdown",
   "source": [
    "## Question 1 (10 points)\n",
    "\n",
    "Complete the definition of `dp_sum_capgain` below. Your definition should compute a differentially private sum of the \"Capital Gain\" column of the `adult` dataset, and have a total privacy cost of `epsilon`."
   ],
   "metadata": {
    "collapsed": false,
    "pycharm": {
     "name": "#%% md\n"
    }
   }
  },
  {
   "cell_type": "code",
   "execution_count": null,
   "outputs": [],
   "source": [
    "def dp_sum_capgain(epsilon):\n",
    "    sensitivity = 100000\n",
    "    return laplace_mech(adult['Capital Gain'].clip(upper=sensitivity).sum(), sensitivity, epsilon)\n",
    "dp_sum_capgain(1.0)"
   ],
   "metadata": {
    "collapsed": false,
    "pycharm": {
     "name": "#%%\n"
    }
   }
  },
  {
   "cell_type": "code",
   "execution_count": null,
   "outputs": [],
   "source": [
    "# TEST CASE for question 1\n",
    "\n",
    "real_sum = adult['Capital Gain'].sum()\n",
    "r1 = np.mean([pct_error(real_sum, dp_sum_capgain(0.1)) for _ in range(100)])\n",
    "r2 = np.mean([pct_error(real_sum, dp_sum_capgain(1.0)) for _ in range(100)])\n",
    "r3 = np.mean([pct_error(real_sum, dp_sum_capgain(10.0)) for _ in range(100)])\n",
    "\n",
    "print(\"Average errors:\", r1, r2, r3)\n",
    "\n",
    "assert r1 > 0\n",
    "assert r2 > 0\n",
    "assert r3 > 0\n",
    "assert r1 < 10\n",
    "assert r2 < 2\n",
    "assert r3 < 0.2"
   ],
   "metadata": {
    "collapsed": false,
    "pycharm": {
     "name": "#%%\n"
    }
   }
  },
  {
   "cell_type": "markdown",
   "source": [
    "## Question 2 (10 points)\n",
    "\n",
    "In 2-5 sentences each, answer the following:\n",
    "\n",
    "- What clipping parameter did you use in your definition of `dp_sum_capital`, and why?\n",
    "- What was the sensitivity of the query you used in `dp_sum_capital`, and how is it bounded?\n",
    "- Argue that your definition of `dp_sum_capital` has a total privacy cost of `epsilon`"
   ],
   "metadata": {
    "collapsed": false,
    "pycharm": {
     "name": "#%% md\n"
    }
   }
  },
  {
   "cell_type": "markdown",
   "source": [
    "100000, because that was a reasonable upper bound on the sizes in the dataset.\n",
    "The sensitivity is 100000 as well, because the sensitivity is bounded by the largest possible size in the dataset, so if we clip anything above that, we ensure that the function cannot increase or decrease by >100000 with the addition of more data.\n",
    "Only one query is made with bounded sensitivity using the laplace mechanism, the sum of the one cost epsilon is epsilon."
   ],
   "metadata": {
    "collapsed": false,
    "pycharm": {
     "name": "#%% md\n"
    }
   }
  },
  {
   "cell_type": "markdown",
   "source": [
    "## Question 3 (10 points)\n",
    "\n",
    "Complete the definition of `dp_avg_capgain` below. Your definition should compute a differentially private average (mean) of the \"Capital Gain\" column of the adult dataset, and have a **total privacy cost of epsilon**."
   ],
   "metadata": {
    "collapsed": false,
    "pycharm": {
     "name": "#%% md\n"
    }
   }
  },
  {
   "cell_type": "code",
   "execution_count": null,
   "outputs": [],
   "source": [
    "def dp_avg_capgain(epsilon):\n",
    "    return dp_sum_capgain(epsilon / 2) / laplace_mech(adult['Capital Gain'].shape[0], 1, epsilon / 2)\n",
    "\n",
    "dp_avg_capgain(1.0)"
   ],
   "metadata": {
    "collapsed": false,
    "pycharm": {
     "name": "#%%\n"
    }
   }
  },
  {
   "cell_type": "code",
   "execution_count": null,
   "outputs": [],
   "source": [
    "# TEST CASE for question 3\n",
    "\n",
    "real_avg = adult['Capital Gain'].mean()\n",
    "r1 = np.mean([pct_error(real_avg, dp_avg_capgain(0.1)) for _ in range(100)])\n",
    "r2 = np.mean([pct_error(real_avg, dp_avg_capgain(1.0)) for _ in range(100)])\n",
    "r3 = np.mean([pct_error(real_avg, dp_avg_capgain(10.0)) for _ in range(100)])\n",
    "\n",
    "print(\"Average errors:\", r1, r2, r3)\n",
    "\n",
    "assert r1 > 0\n",
    "assert r2 > 0\n",
    "assert r3 > 0\n",
    "assert r1 < 20\n",
    "assert r2 < 4\n",
    "assert r3 < 0.4"
   ],
   "metadata": {
    "collapsed": false,
    "pycharm": {
     "name": "#%%\n"
    }
   }
  },
  {
   "cell_type": "markdown",
   "source": [
    "## Question 4 (10 points)\n",
    "\n",
    "In 2-5 sentences each, answer the following:\n",
    "\n",
    "- Argue that your definition of `dp_avg_capgain` has a total privacy cost of `epsilon`\n",
    "- For sums and averages, which seems to be more important for accuracy - the value of the clipping parameter $b$ or the scale of the noise added? Why?\n",
    "- Do you think the answer to the previous point will be true for every dataset? Why or why not?"
   ],
   "metadata": {
    "collapsed": false,
    "pycharm": {
     "name": "#%% md\n"
    }
   }
  },
  {
   "cell_type": "markdown",
   "source": [
    "I divided it into a sum and a count query each with epsilon = `epsilon/2`. By sequential composition, total privacy cost is `epsilon`.\n",
    "From playing around, it looks like variation in the clipping parameter is more problematic because this dataset is skewed such that the majority of people have very little capital gains, but those who have more than a little tend to have quite a bit. So when we clip on either end, we wind up much more inaccurate than if we had only a few outliers. Therefore, I don't think this property necessarily generalizes."
   ],
   "metadata": {
    "collapsed": false,
    "pycharm": {
     "name": "#%% md\n"
    }
   }
  },
  {
   "cell_type": "markdown",
   "source": [
    "## Question 5 (20 points)\n",
    "\n",
    "Write a function `auto_avg` that returns the differentially private average of a Pandas series `s`. Your function should automatically determine the clipping parameter `b`, and should enforce differential privacy for a **total privacy cost** of `epsilon`. You can assume that all values are non-negative (i.e. 0 or greater)."
   ],
   "metadata": {
    "collapsed": false,
    "pycharm": {
     "name": "#%% md\n"
    }
   }
  },
  {
   "cell_type": "code",
   "execution_count": null,
   "outputs": [],
   "source": [
    "def auto_avg(series, epsilon):\n",
    "    sub_e = epsilon / 16\n",
    "    last = 0\n",
    "    sensitivity = 0\n",
    "    for i in range(15):\n",
    "        sensitivity = 3 ** i\n",
    "        new = laplace_mech(series.clip(upper=sensitivity).sum(), sensitivity, sub_e)\n",
    "        if abs(new - last) < (new * 0.15):\n",
    "            print(f\"b = {sensitivity}\")\n",
    "            return new / laplace_mech(series.shape[0], 1, sub_e)\n",
    "        last = new\n",
    "    return last / laplace_mech(series.shape[0], 1, sub_e)"
   ],
   "metadata": {
    "collapsed": false,
    "pycharm": {
     "name": "#%%\n"
    }
   }
  },
  {
   "cell_type": "code",
   "execution_count": null,
   "outputs": [],
   "source": [
    "# TEST CASE for question 5\n",
    "r1 = np.mean([pct_error(adult['Age'].mean(), auto_avg(adult['Age'], 1.0)) for _ in range(20)])\n",
    "print('capital')\n",
    "r2 = np.mean([pct_error(adult['Capital Gain'].mean(), auto_avg(adult['Capital Gain'], 1.0)) for _ in range(20)])\n",
    "print('fnlwgt')\n",
    "r3 = np.mean([pct_error(adult['fnlwgt'].mean(), auto_avg(adult['fnlwgt'], 1.0)) for _ in range(20)])\n",
    "\n",
    "print('Average errors:', r1, r2, r3)\n",
    "assert r1 > 0\n",
    "assert r2 > 0\n",
    "assert r3 > 0\n",
    "assert r1 < 1\n",
    "assert r2 < 100\n",
    "assert r3 < 1"
   ],
   "metadata": {
    "collapsed": false,
    "pycharm": {
     "name": "#%%\n"
    }
   }
  },
  {
   "cell_type": "markdown",
   "source": [
    "## Question 6\n",
    "\n",
    "In 2-5 sentences each, answer the following:\n",
    "\n",
    "- Explain your strategy for implementing `auto_avg`\n",
    "- Argue informally that your definition of `auto_avg` has a total privacy cost of `epsilon`\n",
    "- Did your solution work well for all three example columns? If it did not work well on any of them, why not?\n",
    "- When is your solution likely to *not* work well? (i.e. what properties does the data have to have, in order for your solution to not work well?)"
   ],
   "metadata": {
    "collapsed": false,
    "pycharm": {
     "name": "#%% md\n"
    }
   }
  },
  {
   "cell_type": "markdown",
   "source": [
    "Tried to implement logarithmic strategy from textbook, tweaking parameters landed me at powers of 3, given it needs to cover a wide array of data sizes.\n",
    "By sequential composition, my method runs at most 16 queries with an epsilon of `epsilon/16`. (15 checks to find b, and one count query.) which sum to at most `epsilon` and at least `epsilon/8`\n",
    "It worked for all of them, but I did spend some time tweaking the parameters to get it there, so not necessarily generalizable.\n",
    "When data exceeds 3 ** 14, or requires clipping with more precision, this solution will break down."
   ],
   "metadata": {
    "collapsed": false,
    "pycharm": {
     "name": "#%% md\n"
    }
   }
  }
 ],
 "metadata": {
  "kernelspec": {
   "display_name": "Python 3 (ipykernel)",
   "language": "python",
   "name": "python3"
  },
  "language_info": {
   "codemirror_mode": {
    "name": "ipython",
    "version": 3
   },
   "file_extension": ".py",
   "mimetype": "text/x-python",
   "name": "python",
   "nbconvert_exporter": "python",
   "pygments_lexer": "ipython3",
   "version": "3.8.11"
  }
 },
 "nbformat": 4,
 "nbformat_minor": 4
}