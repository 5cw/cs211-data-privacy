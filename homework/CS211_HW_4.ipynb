{
 "cells": [
  {
   "cell_type": "markdown",
   "metadata": {
    "pycharm": {
     "name": "#%% md\n"
    }
   },
   "source": [
    "# CS211: Data Privacy\n",
    "## Homework 4"
   ]
  },
  {
   "cell_type": "code",
   "execution_count": 1,
   "metadata": {
    "pycharm": {
     "name": "#%%\n"
    }
   },
   "outputs": [],
   "source": [
    "# Load the data and libraries\n",
    "import pandas as pd\n",
    "import numpy as np\n",
    "from scipy import stats\n",
    "import matplotlib.pyplot as plt\n",
    "plt.style.use('seaborn-whitegrid')\n",
    "\n",
    "def laplace_mech(v, sensitivity, epsilon):\n",
    "    return v + np.random.laplace(loc=0, scale=sensitivity / epsilon)\n",
    "\n",
    "def pct_error(orig, priv):\n",
    "    return np.abs(orig - priv)/orig * 100.0\n",
    "\n",
    "adult = pd.read_csv('https://github.com/jnear/cs211-data-privacy/raw/master/homework/adult_with_pii.csv')"
   ]
  },
  {
   "cell_type": "code",
   "execution_count": 2,
   "metadata": {
    "pycharm": {
     "name": "#%%\n"
    }
   },
   "outputs": [
    {
     "data": {
      "text/plain": "               Name        DOB          SSN    Zip  Age         Workclass  \\\n0  Karrie Trusslove   9/7/1967  732-14-6110  64152   39         State-gov   \n1  Brandise Tripony   6/7/1988  150-19-2766  61523   50  Self-emp-not-inc   \n2     Brenn McNeely   8/6/1991  725-59-9860  95668   38           Private   \n3       Dorry Poter   4/6/2009  659-57-4974  25503   53           Private   \n4       Dick Honnan  9/16/1951  220-93-3811  75387   28           Private   \n\n   fnlwgt  Education  Education-Num      Marital Status         Occupation  \\\n0   77516  Bachelors             13       Never-married       Adm-clerical   \n1   83311  Bachelors             13  Married-civ-spouse    Exec-managerial   \n2  215646    HS-grad              9            Divorced  Handlers-cleaners   \n3  234721       11th              7  Married-civ-spouse  Handlers-cleaners   \n4  338409  Bachelors             13  Married-civ-spouse     Prof-specialty   \n\n    Relationship   Race     Sex  Capital Gain  Capital Loss  Hours per week  \\\n0  Not-in-family  White    Male          2174             0              40   \n1        Husband  White    Male             0             0              13   \n2  Not-in-family  White    Male             0             0              40   \n3        Husband  Black    Male             0             0              40   \n4           Wife  Black  Female             0             0              40   \n\n         Country Target  \n0  United-States  <=50K  \n1  United-States  <=50K  \n2  United-States  <=50K  \n3  United-States  <=50K  \n4           Cuba  <=50K  ",
      "text/html": "<div>\n<style scoped>\n    .dataframe tbody tr th:only-of-type {\n        vertical-align: middle;\n    }\n\n    .dataframe tbody tr th {\n        vertical-align: top;\n    }\n\n    .dataframe thead th {\n        text-align: right;\n    }\n</style>\n<table border=\"1\" class=\"dataframe\">\n  <thead>\n    <tr style=\"text-align: right;\">\n      <th></th>\n      <th>Name</th>\n      <th>DOB</th>\n      <th>SSN</th>\n      <th>Zip</th>\n      <th>Age</th>\n      <th>Workclass</th>\n      <th>fnlwgt</th>\n      <th>Education</th>\n      <th>Education-Num</th>\n      <th>Marital Status</th>\n      <th>Occupation</th>\n      <th>Relationship</th>\n      <th>Race</th>\n      <th>Sex</th>\n      <th>Capital Gain</th>\n      <th>Capital Loss</th>\n      <th>Hours per week</th>\n      <th>Country</th>\n      <th>Target</th>\n    </tr>\n  </thead>\n  <tbody>\n    <tr>\n      <th>0</th>\n      <td>Karrie Trusslove</td>\n      <td>9/7/1967</td>\n      <td>732-14-6110</td>\n      <td>64152</td>\n      <td>39</td>\n      <td>State-gov</td>\n      <td>77516</td>\n      <td>Bachelors</td>\n      <td>13</td>\n      <td>Never-married</td>\n      <td>Adm-clerical</td>\n      <td>Not-in-family</td>\n      <td>White</td>\n      <td>Male</td>\n      <td>2174</td>\n      <td>0</td>\n      <td>40</td>\n      <td>United-States</td>\n      <td>&lt;=50K</td>\n    </tr>\n    <tr>\n      <th>1</th>\n      <td>Brandise Tripony</td>\n      <td>6/7/1988</td>\n      <td>150-19-2766</td>\n      <td>61523</td>\n      <td>50</td>\n      <td>Self-emp-not-inc</td>\n      <td>83311</td>\n      <td>Bachelors</td>\n      <td>13</td>\n      <td>Married-civ-spouse</td>\n      <td>Exec-managerial</td>\n      <td>Husband</td>\n      <td>White</td>\n      <td>Male</td>\n      <td>0</td>\n      <td>0</td>\n      <td>13</td>\n      <td>United-States</td>\n      <td>&lt;=50K</td>\n    </tr>\n    <tr>\n      <th>2</th>\n      <td>Brenn McNeely</td>\n      <td>8/6/1991</td>\n      <td>725-59-9860</td>\n      <td>95668</td>\n      <td>38</td>\n      <td>Private</td>\n      <td>215646</td>\n      <td>HS-grad</td>\n      <td>9</td>\n      <td>Divorced</td>\n      <td>Handlers-cleaners</td>\n      <td>Not-in-family</td>\n      <td>White</td>\n      <td>Male</td>\n      <td>0</td>\n      <td>0</td>\n      <td>40</td>\n      <td>United-States</td>\n      <td>&lt;=50K</td>\n    </tr>\n    <tr>\n      <th>3</th>\n      <td>Dorry Poter</td>\n      <td>4/6/2009</td>\n      <td>659-57-4974</td>\n      <td>25503</td>\n      <td>53</td>\n      <td>Private</td>\n      <td>234721</td>\n      <td>11th</td>\n      <td>7</td>\n      <td>Married-civ-spouse</td>\n      <td>Handlers-cleaners</td>\n      <td>Husband</td>\n      <td>Black</td>\n      <td>Male</td>\n      <td>0</td>\n      <td>0</td>\n      <td>40</td>\n      <td>United-States</td>\n      <td>&lt;=50K</td>\n    </tr>\n    <tr>\n      <th>4</th>\n      <td>Dick Honnan</td>\n      <td>9/16/1951</td>\n      <td>220-93-3811</td>\n      <td>75387</td>\n      <td>28</td>\n      <td>Private</td>\n      <td>338409</td>\n      <td>Bachelors</td>\n      <td>13</td>\n      <td>Married-civ-spouse</td>\n      <td>Prof-specialty</td>\n      <td>Wife</td>\n      <td>Black</td>\n      <td>Female</td>\n      <td>0</td>\n      <td>0</td>\n      <td>40</td>\n      <td>Cuba</td>\n      <td>&lt;=50K</td>\n    </tr>\n  </tbody>\n</table>\n</div>"
     },
     "execution_count": 2,
     "metadata": {},
     "output_type": "execute_result"
    }
   ],
   "source": [
    "adult.head()"
   ]
  },
  {
   "cell_type": "markdown",
   "metadata": {
    "pycharm": {
     "name": "#%% md\n"
    }
   },
   "source": [
    "## Question 1 (10 points)\n",
    "\n",
    "Complete the definition of `dp_sum_capgain` below. Your definition should compute a differentially private sum of the \"Capital Gain\" column of the `adult` dataset, and have a total privacy cost of `epsilon`."
   ]
  },
  {
   "cell_type": "code",
   "execution_count": 5,
   "metadata": {
    "deletable": false,
    "nbgrader": {
     "cell_type": "code",
     "checksum": "6080971c67250edb52282f4b23cd5b88",
     "grade": false,
     "grade_id": "cell-6a369f61d8eef943",
     "locked": false,
     "schema_version": 3,
     "solution": true,
     "task": false
    },
    "pycharm": {
     "name": "#%%\n"
    }
   },
   "outputs": [
    {
     "data": {
      "text/plain": "35072586.44547944"
     },
     "execution_count": 5,
     "metadata": {},
     "output_type": "execute_result"
    }
   ],
   "source": [
    "def dp_sum_capgain(epsilon):\n",
    "    # YOUR CODE HERE\n",
    "    return laplace_mech(adult['Capital Gain'].sum(), max(adult['Capital Gain']), epsilon)\n",
    "\n",
    "dp_sum_capgain(1.0)"
   ]
  },
  {
   "cell_type": "code",
   "execution_count": 6,
   "metadata": {
    "deletable": false,
    "editable": false,
    "nbgrader": {
     "cell_type": "code",
     "checksum": "ff9fcd394127b5d73aac00552e7e7ab4",
     "grade": true,
     "grade_id": "cell-e5b1229ba2249f71",
     "locked": true,
     "points": 10,
     "schema_version": 3,
     "solution": false,
     "task": false
    },
    "pycharm": {
     "name": "#%%\n"
    }
   },
   "outputs": [
    {
     "name": "stdout",
     "output_type": "stream",
     "text": [
      "Average errors: 3.2775048105512044 0.3015636562326808 0.02621659464802684\n"
     ]
    }
   ],
   "source": [
    "# TEST CASE for question 1\n",
    "\n",
    "real_sum = adult['Capital Gain'].sum()\n",
    "r1 = np.mean([pct_error(real_sum, dp_sum_capgain(0.1)) for _ in range(100)])\n",
    "r2 = np.mean([pct_error(real_sum, dp_sum_capgain(1.0)) for _ in range(100)])\n",
    "r3 = np.mean([pct_error(real_sum, dp_sum_capgain(10.0)) for _ in range(100)])\n",
    "\n",
    "print(\"Average errors:\", r1, r2, r3)\n",
    "\n",
    "assert r1 > 0\n",
    "assert r2 > 0\n",
    "assert r3 > 0\n",
    "assert r1 < 10\n",
    "assert r2 < 2\n",
    "assert r3 < 0.2"
   ]
  },
  {
   "cell_type": "markdown",
   "metadata": {
    "pycharm": {
     "name": "#%% md\n"
    }
   },
   "source": [
    "## Question 2 (10 points)\n",
    "\n",
    "In 2-5 sentences each, answer the following:\n",
    "\n",
    "- What clipping parameter did you use in your definition of `dp_sum_capital`, and why?\n",
    "- What was the sensitivity of the query you used in `dp_sum_capital`, and how is it bounded?\n",
    "- Argue that your definition of `dp_sum_capital` has a total privacy cost of `epsilon`"
   ]
  },
  {
   "cell_type": "markdown",
   "metadata": {
    "deletable": false,
    "nbgrader": {
     "cell_type": "markdown",
     "checksum": "6cfdb579dfcf330b8e9e9cfd697fe494",
     "grade": true,
     "grade_id": "cell-986eec754f32c072",
     "locked": false,
     "points": 10,
     "schema_version": 3,
     "solution": true,
     "task": false
    },
    "pycharm": {
     "name": "#%% md\n"
    }
   },
   "source": [
    "YOUR ANSWER HERE"
   ]
  },
  {
   "cell_type": "markdown",
   "metadata": {
    "pycharm": {
     "name": "#%% md\n"
    }
   },
   "source": [
    "## Question 3 (10 points)\n",
    "\n",
    "Complete the definition of `dp_avg_capgain` below. Your definition should compute a differentially private average (mean) of the \"Capital Gain\" column of the adult dataset, and have a **total privacy cost of epsilon**."
   ]
  },
  {
   "cell_type": "code",
   "execution_count": null,
   "metadata": {
    "deletable": false,
    "nbgrader": {
     "cell_type": "code",
     "checksum": "99b884a40ae754582e5d08c98abb1fda",
     "grade": false,
     "grade_id": "cell-93f2a5153dca0e95",
     "locked": false,
     "schema_version": 3,
     "solution": true,
     "task": false
    },
    "pycharm": {
     "name": "#%%\n"
    }
   },
   "outputs": [],
   "source": [
    "def dp_avg_capgain(epsilon):\n",
    "    # YOUR CODE HERE\n",
    "    raise NotImplementedError()\n",
    "\n",
    "dp_avg_capgain(1.0)"
   ]
  },
  {
   "cell_type": "code",
   "execution_count": null,
   "metadata": {
    "deletable": false,
    "editable": false,
    "nbgrader": {
     "cell_type": "code",
     "checksum": "f1b47ee125ecebaab842c8677f424806",
     "grade": true,
     "grade_id": "cell-ef77b325b5c58908",
     "locked": true,
     "points": 10,
     "schema_version": 3,
     "solution": false,
     "task": false
    },
    "pycharm": {
     "name": "#%%\n"
    }
   },
   "outputs": [],
   "source": [
    "# TEST CASE for question 3\n",
    "\n",
    "real_avg = adult['Capital Gain'].mean()\n",
    "r1 = np.mean([pct_error(real_avg, dp_avg_capgain(0.1)) for _ in range(100)])\n",
    "r2 = np.mean([pct_error(real_avg, dp_avg_capgain(1.0)) for _ in range(100)])\n",
    "r3 = np.mean([pct_error(real_avg, dp_avg_capgain(10.0)) for _ in range(100)])\n",
    "\n",
    "print(\"Average errors:\", r1, r2, r3)\n",
    "\n",
    "assert r1 > 0\n",
    "assert r2 > 0\n",
    "assert r3 > 0\n",
    "assert r1 < 20\n",
    "assert r2 < 4\n",
    "assert r3 < 0.4"
   ]
  },
  {
   "cell_type": "markdown",
   "metadata": {
    "pycharm": {
     "name": "#%% md\n"
    }
   },
   "source": [
    "## Question 4 (10 points)\n",
    "\n",
    "In 2-5 sentences each, answer the following:\n",
    "\n",
    "- Argue that your definition of `dp_avg_capgain` has a total privacy cost of `epsilon`\n",
    "- For sums and averages, which seems to be more important for accuracy - the value of the clipping parameter $b$ or the scale of the noise added? Why?\n",
    "- Do you think the answer to the previous point will be true for every dataset? Why or why not?"
   ]
  },
  {
   "cell_type": "markdown",
   "metadata": {
    "deletable": false,
    "nbgrader": {
     "cell_type": "markdown",
     "checksum": "1bdbfc10631a501c5a7fb556dd93b78b",
     "grade": true,
     "grade_id": "cell-7ea16016366529bd",
     "locked": false,
     "points": 10,
     "schema_version": 3,
     "solution": true,
     "task": false
    },
    "pycharm": {
     "name": "#%% md\n"
    }
   },
   "source": [
    "YOUR ANSWER HERE"
   ]
  },
  {
   "cell_type": "markdown",
   "metadata": {
    "pycharm": {
     "name": "#%% md\n"
    }
   },
   "source": [
    "## Question 5 (20 points)\n",
    "\n",
    "Write a function `auto_avg` that returns the differentially private average of a Pandas series `s`. Your function should automatically determine the clipping parameter `b`, and should enforce differential privacy for a **total privacy cost** of `epsilon`. You can assume that all values are non-negative (i.e. 0 or greater)."
   ]
  },
  {
   "cell_type": "code",
   "execution_count": null,
   "metadata": {
    "deletable": false,
    "nbgrader": {
     "cell_type": "code",
     "checksum": "2904d4ac725862cfa5bf5407dac205ad",
     "grade": false,
     "grade_id": "cell-10b352b38a9b5f85",
     "locked": false,
     "schema_version": 3,
     "solution": true,
     "task": false
    },
    "pycharm": {
     "name": "#%%\n"
    }
   },
   "outputs": [],
   "source": [
    "# YOUR CODE HERE\n",
    "raise NotImplementedError()"
   ]
  },
  {
   "cell_type": "code",
   "execution_count": null,
   "metadata": {
    "deletable": false,
    "editable": false,
    "nbgrader": {
     "cell_type": "code",
     "checksum": "681c071e3c768c39363da9bc07e17e2b",
     "grade": true,
     "grade_id": "cell-49fb57b1ebfcc0da",
     "locked": true,
     "points": 20,
     "schema_version": 3,
     "solution": false,
     "task": false
    },
    "pycharm": {
     "name": "#%%\n"
    }
   },
   "outputs": [],
   "source": [
    "# TEST CASE for question 5\n",
    "r1 = np.mean([pct_error(adult['Age'].mean(), auto_avg(adult['Age'], 1.0)) for _ in range(20)])\n",
    "r2 = np.mean([pct_error(adult['Capital Gain'].mean(), auto_avg(adult['Capital Gain'], 1.0)) for _ in range(20)])\n",
    "r3 = np.mean([pct_error(adult['fnlwgt'].mean(), auto_avg(adult['fnlwgt'], 1.0)) for _ in range(20)])\n",
    "\n",
    "print('Average errors:', r1, r2, r3)\n",
    "assert r1 > 0\n",
    "assert r2 > 0\n",
    "assert r3 > 0\n",
    "assert r1 < 1\n",
    "assert r2 < 100\n",
    "assert r3 < 1"
   ]
  },
  {
   "cell_type": "markdown",
   "metadata": {
    "pycharm": {
     "name": "#%% md\n"
    }
   },
   "source": [
    "## Question 6\n",
    "\n",
    "In 2-5 sentences each, answer the following:\n",
    "\n",
    "- Explain your strategy for implementing `auto_avg`\n",
    "- Argue informally that your definition of `auto_avg` has a total privacy cost of `epsilon`\n",
    "- Did your solution work well for all three example columns? If it did not work well on any of them, why not?\n",
    "- When is your solution likely to *not* work well? (i.e. what properties does the data have to have, in order for your solution to not work well?)"
   ]
  },
  {
   "cell_type": "markdown",
   "metadata": {
    "deletable": false,
    "nbgrader": {
     "cell_type": "markdown",
     "checksum": "def36546de73b2221e2699f4f41000a6",
     "grade": true,
     "grade_id": "cell-0ff63739ed66adf7",
     "locked": false,
     "points": 10,
     "schema_version": 3,
     "solution": true,
     "task": false
    },
    "pycharm": {
     "name": "#%% md\n"
    }
   },
   "source": [
    "YOUR ANSWER HERE"
   ]
  }
 ],
 "metadata": {
  "kernelspec": {
   "display_name": "Python 3 (ipykernel)",
   "language": "python",
   "name": "python3"
  },
  "language_info": {
   "codemirror_mode": {
    "name": "ipython",
    "version": 3
   },
   "file_extension": ".py",
   "mimetype": "text/x-python",
   "name": "python",
   "nbconvert_exporter": "python",
   "pygments_lexer": "ipython3",
   "version": "3.8.11"
  }
 },
 "nbformat": 4,
 "nbformat_minor": 4
}