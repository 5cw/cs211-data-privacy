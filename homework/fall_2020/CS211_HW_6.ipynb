{
 "cells": [
  {
   "cell_type": "markdown",
   "metadata": {},
   "source": [
    "# CS211: Data Privacy\n",
    "## Homework 6"
   ]
  },
  {
   "cell_type": "code",
   "execution_count": null,
   "metadata": {},
   "outputs": [],
   "source": [
    "# Load the data and libraries\n",
    "import pandas as pd\n",
    "import numpy as np\n",
    "from scipy import stats\n",
    "import matplotlib.pyplot as plt\n",
    "plt.style.use('seaborn-whitegrid')\n",
    "\n",
    "def laplace_mech(v, sensitivity, epsilon):\n",
    "    return v + np.random.laplace(loc=0, scale=sensitivity / epsilon)\n",
    "\n",
    "def gaussian_mech(v, sensitivity, epsilon, delta):\n",
    "    return v + np.random.normal(loc=0, scale=sensitivity * np.sqrt(2*np.log(1.25/delta)) / epsilon)\n",
    "\n",
    "def pct_error(orig, priv):\n",
    "    return np.abs(orig - priv)/orig * 100.0\n",
    "\n",
    "adult = pd.read_csv('https://github.com/jnear/cs211-data-privacy/raw/master/homework/adult_with_pii.csv')"
   ]
  },
  {
   "cell_type": "markdown",
   "metadata": {},
   "source": [
    "## Question 1 (5 points)\n",
    "\n",
    "Consider the code below, which graphs the total privacy cost of an averaging attack under (1) sequential composition and (2) advanced composition, for values of `k` between 1 and 200."
   ]
  },
  {
   "cell_type": "code",
   "execution_count": null,
   "metadata": {},
   "outputs": [],
   "source": [
    "epsilon = .1\n",
    "delta_p = 1e-5\n",
    "\n",
    "def query():\n",
    "    return len(adult_data[adult_data['Martial Status'] == 'Divorced'])\n",
    "\n",
    "def avg_attack(k):\n",
    "    return np.mean([laplace_mech(query(), 1, epsilon) for i in range(k)])\n",
    "    \n",
    "xs = range(1, 200)\n",
    "privacy_cost_sequential = [k * epsilon for k in xs]\n",
    "privacy_cost_advanced = [2 * epsilon * np.sqrt(2 * k * np.log(1/delta_p)) for k in xs]\n",
    "\n",
    "plt.plot(xs, privacy_cost_sequential);\n",
    "plt.plot(xs, privacy_cost_advanced);"
   ]
  },
  {
   "cell_type": "markdown",
   "metadata": {},
   "source": [
    "In 2-5 sentences, answer the following:\n",
    "- At approximately what point do the lines representing the two approaches cross? What does this mean about **which** composition technique should be used for an iterative algorithm?\n",
    "- The two lines represent **different** privacy costs for the **same** algorithm. How can both be correct?"
   ]
  },
  {
   "cell_type": "markdown",
   "metadata": {
    "deletable": false,
    "nbgrader": {
     "cell_type": "markdown",
     "checksum": "2b86e17228d608736c37de10704baf28",
     "grade": true,
     "grade_id": "cell-96c736c4b121709d",
     "locked": false,
     "points": 5,
     "schema_version": 3,
     "solution": true,
     "task": false
    }
   },
   "source": [
    "YOUR ANSWER HERE"
   ]
  },
  {
   "cell_type": "markdown",
   "metadata": {},
   "source": [
    "## Question 2 (5 points)\n",
    "\n",
    "In the cell below, define a function that implements the vector version of the Laplace mechanism. An implementation that works for a single number is defined for reference as `laplace_mech` above."
   ]
  },
  {
   "cell_type": "code",
   "execution_count": null,
   "metadata": {
    "deletable": false,
    "nbgrader": {
     "cell_type": "code",
     "checksum": "19c47cfe5fa1e7d43d45167e93a7a5e2",
     "grade": false,
     "grade_id": "cell-7f1ba0129f002d97",
     "locked": false,
     "schema_version": 3,
     "solution": true,
     "task": false
    }
   },
   "outputs": [],
   "source": [
    "def laplace_mech_vec(qs, sensitivity, epsilon):\n",
    "    # YOUR CODE HERE\n",
    "    raise NotImplementedError()\n",
    "\n",
    "laplace_mech_vec([1,2,3,4], 1, 1.0)"
   ]
  },
  {
   "cell_type": "code",
   "execution_count": null,
   "metadata": {
    "deletable": false,
    "editable": false,
    "nbgrader": {
     "cell_type": "code",
     "checksum": "96ae743d1e76e44c4fc6baed0f651ec6",
     "grade": true,
     "grade_id": "cell-bd46194173c0fce5",
     "locked": true,
     "points": 5,
     "schema_version": 3,
     "solution": false,
     "task": false
    }
   },
   "outputs": [],
   "source": [
    "# TEST CASE\n",
    "vec = [1,2,3,4,5]\n",
    "dp_results = [laplace_mech_vec(vec, 15, 1.0) for _ in range(200)]\n",
    "for i, v in enumerate(vec):\n",
    "    spec = [np.random.laplace(loc=v, scale=15/1.0) for _ in range(200)]\n",
    "    assert stats.wasserstein_distance([r[i] for r in dp_results], spec) < 10"
   ]
  },
  {
   "cell_type": "markdown",
   "metadata": {},
   "source": [
    "## Question 3 (5 points)\n",
    "\n",
    "In the cell below, define a function that implements the vector version of the Gaussian mechanism. An implementation that works for a single number is defined for reference as `gaussian_mech` above."
   ]
  },
  {
   "cell_type": "code",
   "execution_count": null,
   "metadata": {
    "deletable": false,
    "nbgrader": {
     "cell_type": "code",
     "checksum": "50343384d1a1d0c28d8adc3e49be39db",
     "grade": false,
     "grade_id": "cell-f42108fc970f809e",
     "locked": false,
     "schema_version": 3,
     "solution": true,
     "task": false
    }
   },
   "outputs": [],
   "source": [
    "def gaussian_mech_vec(qs, sensitivity, epsilon, delta):\n",
    "    # YOUR CODE HERE\n",
    "    raise NotImplementedError()"
   ]
  },
  {
   "cell_type": "code",
   "execution_count": null,
   "metadata": {
    "deletable": false,
    "editable": false,
    "nbgrader": {
     "cell_type": "code",
     "checksum": "90320bd01980ec58ab91d485d35b74a4",
     "grade": true,
     "grade_id": "cell-c660963755c0b574",
     "locked": true,
     "points": 5,
     "schema_version": 3,
     "solution": false,
     "task": false
    }
   },
   "outputs": [],
   "source": [
    "# TEST CASE\n",
    "vec = [1,2,3,4,5]\n",
    "dp_results = [gaussian_mech_vec(vec, 15, 1.0, 1e-5) for _ in range(200)]\n",
    "for i, v in enumerate(vec):\n",
    "    spec = [np.random.normal(loc=v, scale=72.67207893) for _ in range(200)]\n",
    "    assert stats.wasserstein_distance([r[i] for r in dp_results], spec) < 30"
   ]
  },
  {
   "cell_type": "markdown",
   "metadata": {},
   "source": [
    "## Question 4 (10 points)\n",
    "\n",
    "Consider the code below, which defines three average queries and runs them on `adult_data`, using the Laplace mechanism to provide differential privacy with $\\epsilon = 1$ for each query."
   ]
  },
  {
   "cell_type": "code",
   "execution_count": null,
   "metadata": {},
   "outputs": [],
   "source": [
    "b_capgain = 10000\n",
    "b_age = 3000\n",
    "\n",
    "epsilon = 1\n",
    "\n",
    "def query1():\n",
    "    return np.sum(adult['Capital Gain'].clip(lower=0, upper=b_capgain))\n",
    "\n",
    "def query2():\n",
    "    return len(adult[adult['Education-Num'] < 10])\n",
    "\n",
    "def query3():\n",
    "    return np.sum(adult['Age'].clip(lower=0, upper=b_age))\n",
    "\n",
    "def my_query():\n",
    "    return [query1(), query2(), query3()]\n",
    "\n",
    "my_query()"
   ]
  },
  {
   "cell_type": "markdown",
   "metadata": {},
   "source": [
    "In 2-5 sentences, answer the following:\n",
    "- What is the $L_1$ global sensitivity of `my_query`, and why?\n",
    "- What is the $L_2$ global sensitivity of `my_query`, and why?"
   ]
  },
  {
   "cell_type": "markdown",
   "metadata": {
    "deletable": false,
    "nbgrader": {
     "cell_type": "markdown",
     "checksum": "a1fecbfc2c5e53a5c39617488e4292bf",
     "grade": true,
     "grade_id": "cell-ca541a700c703c80",
     "locked": false,
     "points": 10,
     "schema_version": 3,
     "solution": true,
     "task": false
    }
   },
   "source": [
    "YOUR ANSWER HERE"
   ]
  },
  {
   "cell_type": "markdown",
   "metadata": {},
   "source": [
    "## Question 5 (5 points)\n",
    "\n",
    "In the cell below, write code to release the results of calling `my_query()` with differential privacy, without using sequential composition.\n",
    "\n",
    "*Hint*: use `laplace_mech_vec`, but be careful of sensitivity!"
   ]
  },
  {
   "cell_type": "code",
   "execution_count": null,
   "metadata": {
    "deletable": false,
    "nbgrader": {
     "cell_type": "code",
     "checksum": "90d082593e8a002a78ea34eeaaf24bef",
     "grade": false,
     "grade_id": "cell-860262f2a5274ade",
     "locked": false,
     "schema_version": 3,
     "solution": true,
     "task": false
    }
   },
   "outputs": [],
   "source": [
    "def my_query_lap(epsilon):\n",
    "    # YOUR CODE HERE\n",
    "    raise NotImplementedError()\n",
    "\n",
    "my_query_lap(1.0)"
   ]
  },
  {
   "cell_type": "code",
   "execution_count": null,
   "metadata": {
    "deletable": false,
    "editable": false,
    "nbgrader": {
     "cell_type": "code",
     "checksum": "ef745b628024b2feff7a1384091d1b7b",
     "grade": true,
     "grade_id": "cell-c3699ae0f8329a35",
     "locked": true,
     "points": 5,
     "schema_version": 3,
     "solution": false,
     "task": false
    }
   },
   "outputs": [],
   "source": []
  },
  {
   "cell_type": "markdown",
   "metadata": {},
   "source": [
    "### Question 13 (5 points)\n",
    "\n",
    "In the cell below, write code to release the results of `my_query()` with differential privacy, but using the Gaussian mechanism.\n",
    "\n",
    "*Hint*: remember to use $L_2$ sensitivity"
   ]
  },
  {
   "cell_type": "code",
   "execution_count": null,
   "metadata": {
    "deletable": false,
    "nbgrader": {
     "cell_type": "code",
     "checksum": "edd8765921e3c37313933c99df0c0c6e",
     "grade": false,
     "grade_id": "cell-a728b9c2e0db4bf9",
     "locked": false,
     "schema_version": 3,
     "solution": true,
     "task": false
    }
   },
   "outputs": [],
   "source": [
    "def my_query_gauss(epsilon, delta):\n",
    "    # YOUR CODE HERE\n",
    "    raise NotImplementedError()\n",
    "\n",
    "my_query_gauss(1.0, 1e-5)"
   ]
  },
  {
   "cell_type": "code",
   "execution_count": null,
   "metadata": {
    "deletable": false,
    "editable": false,
    "nbgrader": {
     "cell_type": "code",
     "checksum": "65b6c6d524d57cb26fc28a93ef82358e",
     "grade": true,
     "grade_id": "cell-22fe3f0b052c73da",
     "locked": true,
     "points": 5,
     "schema_version": 3,
     "solution": false,
     "task": false
    }
   },
   "outputs": [],
   "source": []
  }
 ],
 "metadata": {
  "kernelspec": {
   "display_name": "Python 3",
   "language": "python",
   "name": "python3"
  },
  "language_info": {
   "codemirror_mode": {
    "name": "ipython",
    "version": 3
   },
   "file_extension": ".py",
   "mimetype": "text/x-python",
   "name": "python",
   "nbconvert_exporter": "python",
   "pygments_lexer": "ipython3",
   "version": "3.6.10"
  }
 },
 "nbformat": 4,
 "nbformat_minor": 4
}
