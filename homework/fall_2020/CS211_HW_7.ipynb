{
 "cells": [
  {
   "cell_type": "markdown",
   "metadata": {},
   "source": [
    "# CS211: Data Privacy\n",
    "## Homework 7"
   ]
  },
  {
   "cell_type": "code",
   "execution_count": null,
   "metadata": {},
   "outputs": [],
   "source": [
    "# Load the data and libraries\n",
    "import pandas as pd\n",
    "import numpy as np\n",
    "from scipy import stats\n",
    "import matplotlib.pyplot as plt\n",
    "plt.style.use('seaborn-whitegrid')\n",
    "\n",
    "def laplace_mech(v, sensitivity, epsilon):\n",
    "    return v + np.random.laplace(loc=0, scale=sensitivity / epsilon)\n",
    "\n",
    "def gaussian_mech(v, sensitivity, epsilon, delta):\n",
    "    return v + np.random.normal(loc=0, scale=sensitivity * np.sqrt(2*np.log(1.25/delta)) / epsilon)\n",
    "\n",
    "def pct_error(orig, priv):\n",
    "    return np.abs(orig - priv)/orig * 100.0\n",
    "\n",
    "adult = pd.read_csv('https://github.com/jnear/cs211-data-privacy/raw/master/homework/adult_with_pii.csv')"
   ]
  },
  {
   "cell_type": "markdown",
   "metadata": {},
   "source": [
    "## Question 1 (5 points)\n",
    "\n",
    "(Reference [Chapter 7](https://uvm-plaid.github.io/programming-dp/notebooks/ch7.html) of the textbook)\n",
    "\n",
    "Consider the following mean query:"
   ]
  },
  {
   "cell_type": "code",
   "execution_count": null,
   "metadata": {},
   "outputs": [],
   "source": [
    "def mean_age():\n",
    "    clipped_ages = adult['Age'].clip(lower=0, upper=100)\n",
    "    return clipped_ages.mean()\n",
    "\n",
    "mean_age()"
   ]
  },
  {
   "cell_type": "markdown",
   "metadata": {},
   "source": [
    "Implement `ls_mean_at_distance`, an upper bound on the local sensitivity of the `mean_age` query at distance $k$, and `dist_to_high_ls_mean`, an upper bound on the distance from the true dataset to one with local sensitivity greater than or equal to $s_p$."
   ]
  },
  {
   "cell_type": "code",
   "execution_count": null,
   "metadata": {
    "deletable": false,
    "nbgrader": {
     "cell_type": "code",
     "checksum": "c782250b9281d109fcf69b780a0f227c",
     "grade": true,
     "grade_id": "cell-63f79c9bbc970326",
     "locked": false,
     "points": 5,
     "schema_version": 3,
     "solution": true,
     "task": false
    }
   },
   "outputs": [],
   "source": [
    "def ls_mean_at_distance(k):\n",
    "    # YOUR CODE HERE\n",
    "    raise NotImplementedError()\n",
    "\n",
    "def dist_to_high_ls_mean(s_p):\n",
    "    # YOUR CODE HERE\n",
    "    raise NotImplementedError()"
   ]
  },
  {
   "cell_type": "markdown",
   "metadata": {},
   "source": [
    "## Question 2 (10 points)\n",
    "\n",
    "Implement `ptr_mean`, which should use the propose-test-release framework to calculate a differentially private estimate of the mean age. If the test fails, return `None`."
   ]
  },
  {
   "cell_type": "code",
   "execution_count": null,
   "metadata": {
    "deletable": false,
    "nbgrader": {
     "cell_type": "code",
     "checksum": "ce00502266c77c599339495a69897d44",
     "grade": false,
     "grade_id": "cell-2c7d8b212cf7534c",
     "locked": false,
     "schema_version": 3,
     "solution": true,
     "task": false
    }
   },
   "outputs": [],
   "source": [
    "def ptr_mean(s_p, epsilon, delta):\n",
    "    # YOUR CODE HERE\n",
    "    raise NotImplementedError()\n",
    "\n",
    "# proposed sensitivity: 0.05\n",
    "# epsilon, delta = (1.0, 10^-5)\n",
    "ptr_mean(0.05, 1.0, 1e-5)"
   ]
  },
  {
   "cell_type": "code",
   "execution_count": null,
   "metadata": {
    "deletable": false,
    "editable": false,
    "nbgrader": {
     "cell_type": "code",
     "checksum": "521473c2467107b8fe24a63433d512de",
     "grade": true,
     "grade_id": "cell-050c04785d3ca701",
     "locked": true,
     "points": 10,
     "schema_version": 3,
     "solution": false,
     "task": false
    }
   },
   "outputs": [],
   "source": [
    "# TEST CASE\n",
    "true_mean = mean_age()\n",
    "trials = [ptr_mean(0.05, 0.1, 1e-5) for _ in range(20)]\n",
    "errors = [pct_error(true_mean, t) for t in trials]\n",
    "assert np.mean(errors) < 10\n",
    "\n",
    "assert ptr_mean(0.0001, 0.1, 1e-5) == None"
   ]
  },
  {
   "cell_type": "markdown",
   "metadata": {},
   "source": [
    "## Question 3 (20 points)\n",
    "\n",
    "Consider the `median_age` function, which calculates the *median* age (this version truncates if the length of the dataset is even), and the `ls_median` function, an upper bound on the local sensitivity of the median query:"
   ]
  },
  {
   "cell_type": "code",
   "execution_count": null,
   "metadata": {},
   "outputs": [],
   "source": [
    "## Cache the sorted ages, because we will use them a lot.\n",
    "sorted_ages = adult['Age'].clip(lower=0, upper=100).sort_values()\n",
    "\n",
    "def median_age():\n",
    "    idx = int(len(adult)/2)\n",
    "    return sorted_ages.iloc[idx]\n",
    "\n",
    "print('Median age:', median_age())\n",
    "\n",
    "def ls_median():\n",
    "    idx = int(len(adult)/2)\n",
    "    return max(sorted_ages.iloc[idx] - sorted_ages.iloc[idx-1],\n",
    "               sorted_ages.iloc[idx+1] - sorted_ages.iloc[idx])\n",
    "\n",
    "print('Local sensitivity of the median:', ls_median())"
   ]
  },
  {
   "cell_type": "markdown",
   "metadata": {},
   "source": [
    "Note that the local sensitivity of the median is 0. Implement the functions `ls_median_at_distance`, which calculates the local sensitivity at distance $k$ of the median query above, and the corresponding `dist_to_high_ls_median`.\n",
    "\n",
    "*Hint*: note that the ages are clipped. Think about the worst-case scenario of adding or removing $k$ rows."
   ]
  },
  {
   "cell_type": "code",
   "execution_count": null,
   "metadata": {
    "deletable": false,
    "nbgrader": {
     "cell_type": "code",
     "checksum": "c47ab7e48f8120153d53866441fc120b",
     "grade": false,
     "grade_id": "cell-16a1fbaa4a589fd6",
     "locked": false,
     "schema_version": 3,
     "solution": true,
     "task": false
    }
   },
   "outputs": [],
   "source": [
    "def ls_median_at_distance(k):\n",
    "    # YOUR CODE HERE\n",
    "    raise NotImplementedError()\n",
    "\n",
    "def dist_to_high_ls_median(s_p):\n",
    "    # YOUR CODE HERE\n",
    "    raise NotImplementedError()\n",
    "\n",
    "ls_median_at_distance(10000)"
   ]
  },
  {
   "cell_type": "code",
   "execution_count": null,
   "metadata": {
    "deletable": false,
    "editable": false,
    "nbgrader": {
     "cell_type": "code",
     "checksum": "38444d4bbd76bd0d8e6699beeeedcb30",
     "grade": true,
     "grade_id": "cell-c7616dbe4cdc3fde",
     "locked": true,
     "points": 20,
     "schema_version": 3,
     "solution": false,
     "task": false
    }
   },
   "outputs": [],
   "source": [
    "assert ls_median_at_distance(500) == 1\n",
    "assert ls_median_at_distance(5000) == 6\n",
    "assert ls_median_at_distance(10000) == 14\n",
    "assert ls_median_at_distance(15000) == 28"
   ]
  },
  {
   "cell_type": "markdown",
   "metadata": {},
   "source": [
    "## Question 4 (10 points)\n",
    "\n",
    "Use the propose-test-release framework, plus `dist_to_high_ls_median`, to answer the median query with differential privacy."
   ]
  },
  {
   "cell_type": "code",
   "execution_count": null,
   "metadata": {
    "deletable": false,
    "nbgrader": {
     "cell_type": "code",
     "checksum": "fc9685a636590be5fa25fc5e1815a66c",
     "grade": false,
     "grade_id": "cell-8931f6c4576d8c47",
     "locked": false,
     "schema_version": 3,
     "solution": true,
     "task": false
    }
   },
   "outputs": [],
   "source": [
    "def ptr_median(s_p, epsilon, delta):\n",
    "    # YOUR CODE HERE\n",
    "    raise NotImplementedError()\n",
    "\n",
    "ptr_median(0.01, 1.0, 1e-5)"
   ]
  },
  {
   "cell_type": "code",
   "execution_count": null,
   "metadata": {
    "deletable": false,
    "editable": false,
    "nbgrader": {
     "cell_type": "code",
     "checksum": "95ddcf74e3f22fcd5a80059963ef7a9f",
     "grade": true,
     "grade_id": "cell-90cffe527d83d7c7",
     "locked": true,
     "points": 10,
     "schema_version": 3,
     "solution": false,
     "task": false
    }
   },
   "outputs": [],
   "source": [
    "# TEST CASE\n",
    "true_median = median_age()\n",
    "trials = [ptr_median(0.05, 0.1, 1e-5) for _ in range(20)]\n",
    "errors = [pct_error(true_median, t) for t in trials]\n",
    "assert np.mean(errors) < 10"
   ]
  },
  {
   "cell_type": "markdown",
   "metadata": {},
   "source": [
    "## Question 5 (10 points)\n",
    "\n",
    "In 2-5 sentences, answer the following:\n",
    "\n",
    "- At roughly what distance does the local sensitivity of the median become non-zero?\n",
    "- For what proposed sensitivity does `ptr_median` fail the test (i.e. return `None`)?\n",
    "- What does this mean for the amount of noise required to release the median with differential privacy?"
   ]
  },
  {
   "cell_type": "markdown",
   "metadata": {},
   "source": [
    "- At distance 400\n",
    "- None! You can propose a sensitivity bound of 0\n",
    "- This means you can release the median with *no noise* (for certain values of $\\epsilon$)"
   ]
  },
  {
   "cell_type": "markdown",
   "metadata": {},
   "source": [
    "## Question 6 (20 points)\n",
    "\n",
    "Use the sample-and-aggregate framework to release the mean of the \"Capital Gain\" column. Reference [Chapter 7](https://uvm-plaid.github.io/programming-dp/notebooks/ch7.html)."
   ]
  },
  {
   "cell_type": "code",
   "execution_count": null,
   "metadata": {
    "deletable": false,
    "nbgrader": {
     "cell_type": "code",
     "checksum": "b23d9f37ad81bc20e12fee48dd62f4d1",
     "grade": false,
     "grade_id": "cell-de5a77cbd2059908",
     "locked": false,
     "schema_version": 3,
     "solution": true,
     "task": false
    }
   },
   "outputs": [],
   "source": [
    "def f(chunk):\n",
    "    return chunk.mean()\n",
    "\n",
    "def saa_avg_capgain(k, epsilon):\n",
    "    # YOUR CODE HERE\n",
    "    raise NotImplementedError()\n",
    "\n",
    "saa_avg_capgain(500, 1.0)"
   ]
  },
  {
   "cell_type": "code",
   "execution_count": null,
   "metadata": {
    "deletable": false,
    "editable": false,
    "nbgrader": {
     "cell_type": "code",
     "checksum": "c3cdf1ef6f6f02d0fa10998bae2c7441",
     "grade": true,
     "grade_id": "cell-d325061167621b36",
     "locked": true,
     "points": 20,
     "schema_version": 3,
     "solution": false,
     "task": false
    }
   },
   "outputs": [],
   "source": [
    "# TEST CASE\n",
    "true_mean = adult['Capital Gain'].mean()\n",
    "trials = [saa_avg_capgain(500, 1.0) for _ in range(20)]\n",
    "errors = [pct_error(true_mean, t) for t in trials]\n",
    "assert np.mean(errors) < 10"
   ]
  },
  {
   "cell_type": "markdown",
   "metadata": {},
   "source": [
    "## Question 7 (10 points)\n",
    "\n",
    "In 5-6 sentences, answer the following:\n",
    "\n",
    "- What clipping values did you choose for clipping the query outputs on each chunk? How do these compare with the best values for clipping individual capital gains values when using the \"sum / count\" approach?\n",
    "- Is 500 a good value for the number of chunks $k$? How does making $k$ larger or smaller change the results?\n",
    "- How does the sample-and-aggregate approach compare to the \"sum / count\" approach for this particular query?"
   ]
  },
  {
   "cell_type": "markdown",
   "metadata": {
    "deletable": false,
    "nbgrader": {
     "cell_type": "markdown",
     "checksum": "509f0c56c158e6f504dd5091e1050e7b",
     "grade": true,
     "grade_id": "cell-4bbbc2dba075a1e5",
     "locked": false,
     "points": 10,
     "schema_version": 3,
     "solution": true,
     "task": false
    }
   },
   "source": [
    "YOUR ANSWER HERE"
   ]
  }
 ],
 "metadata": {
  "kernelspec": {
   "display_name": "Python 3",
   "language": "python",
   "name": "python3"
  },
  "language_info": {
   "codemirror_mode": {
    "name": "ipython",
    "version": 3
   },
   "file_extension": ".py",
   "mimetype": "text/x-python",
   "name": "python",
   "nbconvert_exporter": "python",
   "pygments_lexer": "ipython3",
   "version": "3.6.10"
  }
 },
 "nbformat": 4,
 "nbformat_minor": 4
}
