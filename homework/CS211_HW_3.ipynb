{
 "cells": [
  {
   "cell_type": "markdown",
   "metadata": {
    "pycharm": {
     "name": "#%% md\n"
    }
   },
   "source": [
    "# CS211: Data Privacy\n",
    "## Homework 3"
   ]
  },
  {
   "cell_type": "code",
   "execution_count": 1,
   "metadata": {
    "pycharm": {
     "name": "#%%\n"
    }
   },
   "outputs": [],
   "source": [
    "# Load the data and libraries\n",
    "import pandas as pd\n",
    "import numpy as np\n",
    "from scipy import stats\n",
    "import matplotlib.pyplot as plt\n",
    "plt.style.use('seaborn-whitegrid')\n",
    "from unittest.mock import patch\n",
    "\n",
    "def laplace_mech(v, sensitivity, epsilon):\n",
    "    return v + np.random.laplace(loc=0, scale=sensitivity / epsilon)\n",
    "\n",
    "adult = pd.read_csv('https://github.com/jnear/cs211-data-privacy/raw/master/homework/adult_with_pii.csv')\n",
    "adult = adult.dropna()"
   ]
  },
  {
   "cell_type": "code",
   "execution_count": 2,
   "metadata": {
    "pycharm": {
     "name": "#%%\n"
    }
   },
   "outputs": [
    {
     "data": {
      "text/plain": "               Name        DOB          SSN    Zip  Age         Workclass  \\\n0  Karrie Trusslove   9/7/1967  732-14-6110  64152   39         State-gov   \n1  Brandise Tripony   6/7/1988  150-19-2766  61523   50  Self-emp-not-inc   \n2     Brenn McNeely   8/6/1991  725-59-9860  95668   38           Private   \n3       Dorry Poter   4/6/2009  659-57-4974  25503   53           Private   \n4       Dick Honnan  9/16/1951  220-93-3811  75387   28           Private   \n\n   fnlwgt  Education  Education-Num      Marital Status         Occupation  \\\n0   77516  Bachelors             13       Never-married       Adm-clerical   \n1   83311  Bachelors             13  Married-civ-spouse    Exec-managerial   \n2  215646    HS-grad              9            Divorced  Handlers-cleaners   \n3  234721       11th              7  Married-civ-spouse  Handlers-cleaners   \n4  338409  Bachelors             13  Married-civ-spouse     Prof-specialty   \n\n    Relationship   Race     Sex  Capital Gain  Capital Loss  Hours per week  \\\n0  Not-in-family  White    Male          2174             0              40   \n1        Husband  White    Male             0             0              13   \n2  Not-in-family  White    Male             0             0              40   \n3        Husband  Black    Male             0             0              40   \n4           Wife  Black  Female             0             0              40   \n\n         Country Target  \n0  United-States  <=50K  \n1  United-States  <=50K  \n2  United-States  <=50K  \n3  United-States  <=50K  \n4           Cuba  <=50K  ",
      "text/html": "<div>\n<style scoped>\n    .dataframe tbody tr th:only-of-type {\n        vertical-align: middle;\n    }\n\n    .dataframe tbody tr th {\n        vertical-align: top;\n    }\n\n    .dataframe thead th {\n        text-align: right;\n    }\n</style>\n<table border=\"1\" class=\"dataframe\">\n  <thead>\n    <tr style=\"text-align: right;\">\n      <th></th>\n      <th>Name</th>\n      <th>DOB</th>\n      <th>SSN</th>\n      <th>Zip</th>\n      <th>Age</th>\n      <th>Workclass</th>\n      <th>fnlwgt</th>\n      <th>Education</th>\n      <th>Education-Num</th>\n      <th>Marital Status</th>\n      <th>Occupation</th>\n      <th>Relationship</th>\n      <th>Race</th>\n      <th>Sex</th>\n      <th>Capital Gain</th>\n      <th>Capital Loss</th>\n      <th>Hours per week</th>\n      <th>Country</th>\n      <th>Target</th>\n    </tr>\n  </thead>\n  <tbody>\n    <tr>\n      <th>0</th>\n      <td>Karrie Trusslove</td>\n      <td>9/7/1967</td>\n      <td>732-14-6110</td>\n      <td>64152</td>\n      <td>39</td>\n      <td>State-gov</td>\n      <td>77516</td>\n      <td>Bachelors</td>\n      <td>13</td>\n      <td>Never-married</td>\n      <td>Adm-clerical</td>\n      <td>Not-in-family</td>\n      <td>White</td>\n      <td>Male</td>\n      <td>2174</td>\n      <td>0</td>\n      <td>40</td>\n      <td>United-States</td>\n      <td>&lt;=50K</td>\n    </tr>\n    <tr>\n      <th>1</th>\n      <td>Brandise Tripony</td>\n      <td>6/7/1988</td>\n      <td>150-19-2766</td>\n      <td>61523</td>\n      <td>50</td>\n      <td>Self-emp-not-inc</td>\n      <td>83311</td>\n      <td>Bachelors</td>\n      <td>13</td>\n      <td>Married-civ-spouse</td>\n      <td>Exec-managerial</td>\n      <td>Husband</td>\n      <td>White</td>\n      <td>Male</td>\n      <td>0</td>\n      <td>0</td>\n      <td>13</td>\n      <td>United-States</td>\n      <td>&lt;=50K</td>\n    </tr>\n    <tr>\n      <th>2</th>\n      <td>Brenn McNeely</td>\n      <td>8/6/1991</td>\n      <td>725-59-9860</td>\n      <td>95668</td>\n      <td>38</td>\n      <td>Private</td>\n      <td>215646</td>\n      <td>HS-grad</td>\n      <td>9</td>\n      <td>Divorced</td>\n      <td>Handlers-cleaners</td>\n      <td>Not-in-family</td>\n      <td>White</td>\n      <td>Male</td>\n      <td>0</td>\n      <td>0</td>\n      <td>40</td>\n      <td>United-States</td>\n      <td>&lt;=50K</td>\n    </tr>\n    <tr>\n      <th>3</th>\n      <td>Dorry Poter</td>\n      <td>4/6/2009</td>\n      <td>659-57-4974</td>\n      <td>25503</td>\n      <td>53</td>\n      <td>Private</td>\n      <td>234721</td>\n      <td>11th</td>\n      <td>7</td>\n      <td>Married-civ-spouse</td>\n      <td>Handlers-cleaners</td>\n      <td>Husband</td>\n      <td>Black</td>\n      <td>Male</td>\n      <td>0</td>\n      <td>0</td>\n      <td>40</td>\n      <td>United-States</td>\n      <td>&lt;=50K</td>\n    </tr>\n    <tr>\n      <th>4</th>\n      <td>Dick Honnan</td>\n      <td>9/16/1951</td>\n      <td>220-93-3811</td>\n      <td>75387</td>\n      <td>28</td>\n      <td>Private</td>\n      <td>338409</td>\n      <td>Bachelors</td>\n      <td>13</td>\n      <td>Married-civ-spouse</td>\n      <td>Prof-specialty</td>\n      <td>Wife</td>\n      <td>Black</td>\n      <td>Female</td>\n      <td>0</td>\n      <td>0</td>\n      <td>40</td>\n      <td>Cuba</td>\n      <td>&lt;=50K</td>\n    </tr>\n  </tbody>\n</table>\n</div>"
     },
     "execution_count": 2,
     "metadata": {},
     "output_type": "execute_result"
    }
   ],
   "source": [
    "adult.head()"
   ]
  },
  {
   "cell_type": "markdown",
   "metadata": {
    "pycharm": {
     "name": "#%% md\n"
    }
   },
   "source": [
    "## Question 1 (10 points)\n",
    "\n",
    "Write code to answer the query: \"how many participants have never been married?\"\n",
    "\n",
    "*Hint*: filter the `adult_data` dataframe to contain only participants who were never married, then return the  `len` of the filtered dataframe."
   ]
  },
  {
   "cell_type": "code",
   "execution_count": 5,
   "metadata": {
    "deletable": false,
    "nbgrader": {
     "cell_type": "code",
     "checksum": "8f1f7e0158a3e66d86f5d3d51a7ed30f",
     "grade": false,
     "grade_id": "cell-975eb03979d78eaf",
     "locked": false,
     "schema_version": 3,
     "solution": true,
     "task": false
    },
    "pycharm": {
     "name": "#%%\n"
    }
   },
   "outputs": [
    {
     "data": {
      "text/plain": "9726"
     },
     "execution_count": 5,
     "metadata": {},
     "output_type": "execute_result"
    }
   ],
   "source": [
    "def query1():\n",
    "    return len(adult[adult['Marital Status'] == 'Never-married'])\n",
    "\n",
    "query1()"
   ]
  },
  {
   "cell_type": "code",
   "execution_count": 6,
   "metadata": {
    "deletable": false,
    "editable": false,
    "nbgrader": {
     "cell_type": "code",
     "checksum": "674e4c2da585cbb9e92ee8a546628647",
     "grade": true,
     "grade_id": "cell-c5ba2c93a46e8c5e",
     "locked": true,
     "points": 10,
     "schema_version": 3,
     "solution": false,
     "task": false
    },
    "pycharm": {
     "name": "#%%\n"
    }
   },
   "outputs": [],
   "source": [
    "# TEST CASE for question 1\n",
    "assert query1() == 9726"
   ]
  },
  {
   "cell_type": "markdown",
   "metadata": {
    "pycharm": {
     "name": "#%% md\n"
    }
   },
   "source": [
    "## Question 2 (5 points)\n",
    "\n",
    "In 2-5 sentences, answer the following:\n",
    "- What is the sensitivity of `query1`, and why?"
   ]
  },
  {
   "cell_type": "markdown",
   "metadata": {
    "deletable": false,
    "nbgrader": {
     "cell_type": "markdown",
     "checksum": "a49f719e7bbff7b4331d41682658d904",
     "grade": true,
     "grade_id": "cell-fb1c7b0533f933f7",
     "locked": false,
     "points": 5,
     "schema_version": 3,
     "solution": true,
     "task": false
    },
    "pycharm": {
     "name": "#%% md\n"
    }
   },
   "source": [
    "1\n",
    "Counting queries always have a sensitivity of 1. adding a row will change the output my at most one"
   ]
  },
  {
   "cell_type": "markdown",
   "metadata": {
    "pycharm": {
     "name": "#%% md\n"
    }
   },
   "source": [
    "## Question 3 (10 points)\n",
    "\n",
    "Use the implementation of `laplace_mech` to produce a differentially private answer to `query1`, with `epsilon = 0.1`."
   ]
  },
  {
   "cell_type": "code",
   "execution_count": 23,
   "metadata": {
    "deletable": false,
    "nbgrader": {
     "cell_type": "code",
     "checksum": "0e27ddd40ababa8eee863cbbeb1961b2",
     "grade": false,
     "grade_id": "cell-80d3c108ba0f75d5",
     "locked": false,
     "schema_version": 3,
     "solution": true,
     "task": false
    },
    "pycharm": {
     "name": "#%%\n"
    }
   },
   "outputs": [
    {
     "data": {
      "text/plain": "9710.454365478825"
     },
     "execution_count": 23,
     "metadata": {},
     "output_type": "execute_result"
    }
   ],
   "source": [
    "COUNTING_SENSITIVITY = 1\n",
    "def dp_query1(epsilon):\n",
    "    return laplace_mech(query1(), COUNTING_SENSITIVITY, epsilon)\n",
    "\n",
    "dp_query1(0.1)"
   ]
  },
  {
   "cell_type": "code",
   "execution_count": 8,
   "metadata": {
    "deletable": false,
    "editable": false,
    "nbgrader": {
     "cell_type": "code",
     "checksum": "4f93d4f28b6a3727ed76df8885baeb8a",
     "grade": true,
     "grade_id": "cell-93eab43d27806309",
     "locked": true,
     "points": 10,
     "schema_version": 3,
     "solution": false,
     "task": false
    },
    "pycharm": {
     "name": "#%%\n"
    }
   },
   "outputs": [],
   "source": [
    "# TEST CASE for question 3\n",
    "dp_results = [dp_query1(0.1) for _ in range(100)]\n",
    "spec = [np.random.laplace(loc=9726, scale=1/0.1) for _ in range(100)]\n",
    "assert stats.wasserstein_distance(dp_results, spec) < 10"
   ]
  },
  {
   "cell_type": "markdown",
   "metadata": {
    "pycharm": {
     "name": "#%% md\n"
    }
   },
   "source": [
    "## Question 4 (10 points)\n",
    "\n",
    "The `pct_error` function, defined below, returns the percent relative error between an original query result and a differentially private result for the same query.\n",
    "\n",
    "Implement a function `graph_error1` that:\n",
    "\n",
    "- Calculates 1000 differentially private answers to `dp_query1`\n",
    "- Calculates the percent error for each one of these answers against the original (non-private) answer\n",
    "- Graphs the distribution of errors using a histogram\n",
    "\n",
    "*Hint*: use `plt.hist(..., bins=20)`.\n",
    "\n",
    "The given code will use your function to plot errors for `epsilon=0.1` and `epsilon=1.0`."
   ]
  },
  {
   "cell_type": "code",
   "execution_count": 9,
   "metadata": {
    "pycharm": {
     "name": "#%%\n"
    }
   },
   "outputs": [],
   "source": [
    "def pct_error(orig, priv):\n",
    "    return np.abs(orig - priv)/orig * 100.0"
   ]
  },
  {
   "cell_type": "code",
   "execution_count": 34,
   "metadata": {
    "deletable": false,
    "nbgrader": {
     "cell_type": "code",
     "checksum": "e0629316da63126e9cb985ce2dd54c40",
     "grade": false,
     "grade_id": "cell-da0c198a1cf9a866",
     "locked": false,
     "schema_version": 3,
     "solution": true,
     "task": false
    },
    "pycharm": {
     "name": "#%%\n"
    }
   },
   "outputs": [
    {
     "data": {
      "text/plain": "<Figure size 640x480 with 1 Axes>",
      "image/png": "[encoded data removed]"
     },
     "metadata": {},
     "output_type": "display_data"
    }
   ],
   "source": [
    "def graph_error1(epsilon):\n",
    "    q1a = query1()\n",
    "    errors = [pct_error(dp_query1(epsilon), q1a) for _ in range(1000)]\n",
    "    plt.hist(errors, bins=20, label=f\"query 1 epsilon = {epsilon}\")\n",
    "    plt.legend()\n",
    "\n",
    "graph_error1(0.1)\n",
    "graph_error1(1.0)"
   ]
  },
  {
   "cell_type": "code",
   "execution_count": 35,
   "metadata": {
    "deletable": false,
    "editable": false,
    "nbgrader": {
     "cell_type": "code",
     "checksum": "3361b8760594145c039d41479c981de4",
     "grade": true,
     "grade_id": "cell-eda6bc27840a9067",
     "locked": true,
     "points": 10,
     "schema_version": 3,
     "solution": false,
     "task": false
    },
    "pycharm": {
     "name": "#%%\n"
    }
   },
   "outputs": [
    {
     "name": "stderr",
     "output_type": "stream",
     "text": [
      "No artists with labels found to put in legend.  Note that artists whose label start with an underscore are ignored when legend() is called with no argument.\n"
     ]
    },
    {
     "data": {
      "text/plain": "<Figure size 640x480 with 1 Axes>",
      "image/png": "[encoded data removed]"
     },
     "metadata": {},
     "output_type": "display_data"
    }
   ],
   "source": [
    "error_spec = 100.0 * np.abs(np.random.laplace(loc=0, scale=1, size=1000)) / query1()\n",
    "\n",
    "with patch('matplotlib.pyplot.hist') as mock_hist:\n",
    "    graph_error1(1.0)\n",
    "    \n",
    "args, kwargs = mock_hist.call_args\n",
    "assert stats.wasserstein_distance(error_spec, args[0]) < 0.001"
   ]
  },
  {
   "cell_type": "markdown",
   "metadata": {
    "pycharm": {
     "name": "#%% md\n"
    }
   },
   "source": [
    "## Question 5 (10 points)\n",
    "\n",
    "In 2-5 sentences, answer the following:\n",
    "\n",
    "- How does the histogram of relative errors for $\\epsilon = 0.1$ differ from the one for $\\epsilon = 1.0$?\n",
    "- What do the two histograms tell you about the effect of $\\epsilon$ on relative error?\n",
    "\n",
    "**HINT**: Pay close attention to which color represents which value of $\\epsilon$!"
   ]
  },
  {
   "cell_type": "markdown",
   "metadata": {
    "deletable": false,
    "nbgrader": {
     "cell_type": "markdown",
     "checksum": "ce2bae13a992d9010fab785450105fd6",
     "grade": true,
     "grade_id": "cell-075013c43cc4cc1d",
     "locked": false,
     "points": 10,
     "schema_version": 3,
     "solution": true,
     "task": false
    },
    "pycharm": {
     "name": "#%% md\n"
    }
   },
   "source": [
    "Relative errors are larger for 0.1, because a lower epsilon denotes more privacy. Relative error is a measure of how incorrect the output is, so we would expect it to be larger if we wanted to obscure the correct answer more."
   ]
  },
  {
   "cell_type": "markdown",
   "metadata": {
    "pycharm": {
     "name": "#%% md\n"
    }
   },
   "source": [
    "## Question 6 (10 points)\n",
    "\n",
    "Consider `query2`, which asks how many people in the dataset are over the age of 60."
   ]
  },
  {
   "cell_type": "code",
   "execution_count": 37,
   "metadata": {
    "pycharm": {
     "name": "#%%\n"
    }
   },
   "outputs": [
    {
     "data": {
      "text/plain": "1806"
     },
     "execution_count": 37,
     "metadata": {},
     "output_type": "execute_result"
    }
   ],
   "source": [
    "def query2():\n",
    "    return len(adult[adult['Age'] > 60])\n",
    "\n",
    "query2()"
   ]
  },
  {
   "cell_type": "markdown",
   "metadata": {
    "pycharm": {
     "name": "#%% md\n"
    }
   },
   "source": [
    "Implement `dp_query2`, a differentially private version of `query2` (as in question 3), and `graph_error2`, which graphs relative error for `dp_query2` (as in question 4)."
   ]
  },
  {
   "cell_type": "code",
   "execution_count": 36,
   "metadata": {
    "deletable": false,
    "nbgrader": {
     "cell_type": "code",
     "checksum": "aa2b1a0e097669458441b4208bdb099e",
     "grade": false,
     "grade_id": "cell-1c15ba7324d807a4",
     "locked": false,
     "schema_version": 3,
     "solution": true,
     "task": false
    },
    "pycharm": {
     "name": "#%%\n"
    }
   },
   "outputs": [
    {
     "data": {
      "text/plain": "<Figure size 640x480 with 1 Axes>",
      "image/png": "[encoded data removed]"
     },
     "metadata": {},
     "output_type": "display_data"
    }
   ],
   "source": [
    "def dp_query2(epsilon):\n",
    "    return laplace_mech(query2(), COUNTING_SENSITIVITY, epsilon)\n",
    "\n",
    "def graph_error2(epsilon):\n",
    "    q2a = query2()\n",
    "    errors = [pct_error(dp_query2(epsilon), q2a) for _ in range(1000)]\n",
    "    plt.hist(errors, bins=20, label=f\"query 2 epsilon = {epsilon}\")\n",
    "    plt.legend()\n",
    "\n",
    "graph_error2(1.0)\n",
    "graph_error1(1.0) # we plot both errors for query 1 and query 2 at the same epsilon, to compare"
   ]
  },
  {
   "cell_type": "code",
   "execution_count": 25,
   "metadata": {
    "deletable": false,
    "editable": false,
    "nbgrader": {
     "cell_type": "code",
     "checksum": "015fdbec71d505db6698ac9ebb460e18",
     "grade": true,
     "grade_id": "cell-239ae948aa08f924",
     "locked": true,
     "points": 10,
     "schema_version": 3,
     "solution": false,
     "task": false
    },
    "pycharm": {
     "name": "#%%\n"
    }
   },
   "outputs": [
    {
     "name": "stderr",
     "output_type": "stream",
     "text": [
      "No artists with labels found to put in legend.  Note that artists whose label start with an underscore are ignored when legend() is called with no argument.\n"
     ]
    },
    {
     "data": {
      "text/plain": "<Figure size 640x480 with 1 Axes>",
      "image/png": "[encoded data removed]"
     },
     "metadata": {},
     "output_type": "display_data"
    }
   ],
   "source": [
    "error_spec = 100.0 * np.abs(np.random.laplace(loc=0, scale=1, size=1000)) / query2()\n",
    "\n",
    "with patch('matplotlib.pyplot.hist') as mock_hist:\n",
    "    graph_error2(1.0)\n",
    "    \n",
    "args, kwargs = mock_hist.call_args\n",
    "assert stats.wasserstein_distance(error_spec, args[0]) < 0.01"
   ]
  },
  {
   "cell_type": "markdown",
   "metadata": {
    "pycharm": {
     "name": "#%% md\n"
    }
   },
   "source": [
    "## Question 7 (10 points)\n",
    "\n",
    "In 2-5 sentences, answer the following:\n",
    "\n",
    "- Given the graph from question 6, how does relative error differ between `dp_query1` and `dp_query2` for the same value of $\\epsilon$?\n",
    "- What property of the query causes the difference in relative errors between `dp_query1` and `dp_query2`?"
   ]
  },
  {
   "cell_type": "markdown",
   "metadata": {
    "deletable": false,
    "nbgrader": {
     "cell_type": "markdown",
     "checksum": "36649d5ca3c4a6845f7caa5d7952d216",
     "grade": true,
     "grade_id": "cell-be5745d92a22154c",
     "locked": false,
     "points": 10,
     "schema_version": 3,
     "solution": true,
     "task": false
    },
    "pycharm": {
     "name": "#%% md\n"
    }
   },
   "source": [
    "Relative error means relative to the size of the real answer. Because there are several times more unmarried people than there are people over 60, the laplace noise is drowned out more by the unmarried people, since it is absolute, it does not scale with the size of the input. This is why query 1 has much smaller relative error overall. We would expect in the extreme case, that if we had one query with answer 1 and one query with answer 1000, and we added the same noise of 10 to each, 11 is relatively very far from 1, but 1010 is relatively close to 1000."
   ]
  }
 ],
 "metadata": {
  "kernelspec": {
   "display_name": "Python 3 (ipykernel)",
   "language": "python",
   "name": "python3"
  },
  "language_info": {
   "codemirror_mode": {
    "name": "ipython",
    "version": 3
   },
   "file_extension": ".py",
   "mimetype": "text/x-python",
   "name": "python",
   "nbconvert_exporter": "python",
   "pygments_lexer": "ipython3",
   "version": "3.8.11"
  }
 },
 "nbformat": 4,
 "nbformat_minor": 4
}