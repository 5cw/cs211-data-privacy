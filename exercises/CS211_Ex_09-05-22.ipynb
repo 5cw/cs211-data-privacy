{
 "cells": [
  {
   "cell_type": "markdown",
   "metadata": {
    "pycharm": {
     "name": "#%% md\n"
    }
   },
   "source": [
    "# CS211: Data Privacy\n",
    "## In-Class Exercises, week of 9/5/2022"
   ]
  },
  {
   "cell_type": "code",
   "execution_count": 3,
   "metadata": {
    "pycharm": {
     "name": "#%%\n"
    }
   },
   "outputs": [],
   "source": [
    "# Load the data and libraries\n",
    "import pandas as pd\n",
    "import numpy as np\n",
    "\n",
    "adult = pd.read_csv('https://github.com/jnear/cs211-data-privacy/raw/master/homework/adult_with_pii.csv')"
   ]
  },
  {
   "cell_type": "markdown",
   "metadata": {
    "pycharm": {
     "name": "#%% md\n"
    }
   },
   "source": [
    "## Question 1\n",
    "\n",
    "Write code to group the `adult` dataset by a single column and count the number of members in each group."
   ]
  },
  {
   "cell_type": "code",
   "execution_count": 11,
   "metadata": {
    "deletable": false,
    "nbgrader": {
     "cell_type": "code",
     "checksum": "dc23ce6b322e340f4c56f77cd599457b",
     "grade": false,
     "grade_id": "cell-055399c92e676783",
     "locked": false,
     "schema_version": 3,
     "solution": true,
     "task": false
    },
    "pycharm": {
     "name": "#%%\n"
    }
   },
   "outputs": [],
   "source": [
    "def group_one_count(col):\n",
    "    return adult.value_counts([col])"
   ]
  },
  {
   "cell_type": "code",
   "execution_count": 12,
   "metadata": {
    "deletable": false,
    "editable": false,
    "nbgrader": {
     "cell_type": "code",
     "checksum": "e04360bac7e89ce5b4dfd167a157d9a0",
     "grade": false,
     "grade_id": "cell-1b7d2f55d89f7bfb",
     "locked": true,
     "schema_version": 3,
     "solution": false,
     "task": false
    },
    "pycharm": {
     "name": "#%%\n"
    }
   },
   "outputs": [
    {
     "data": {
      "text/plain": "Education   \nHS-grad         10501\nSome-college     7291\nBachelors        5355\nMasters          1723\nAssoc-voc        1382\n11th             1175\nAssoc-acdm       1067\n10th              933\n7th-8th           646\nProf-school       576\n9th               514\n12th              433\nDoctorate         413\n5th-6th           333\n1st-4th           168\nPreschool          51\ndtype: int64"
     },
     "execution_count": 12,
     "metadata": {},
     "output_type": "execute_result"
    }
   ],
   "source": [
    "group_one_count('Education')"
   ]
  },
  {
   "cell_type": "code",
   "execution_count": 14,
   "metadata": {
    "deletable": false,
    "editable": false,
    "nbgrader": {
     "cell_type": "code",
     "checksum": "39a0d109403154e47d176c577542d308",
     "grade": true,
     "grade_id": "cell-befc11c8be0bf91b",
     "locked": true,
     "points": 5,
     "schema_version": 3,
     "solution": false,
     "task": false
    },
    "pycharm": {
     "name": "#%%\n"
    }
   },
   "outputs": [],
   "source": [
    "s = group_one_count('Education')\n",
    "assert s['10th'] == 933\n",
    "assert s['9th'] == 514\n",
    "assert s['Some-college'] == 7291"
   ]
  },
  {
   "cell_type": "markdown",
   "metadata": {
    "pycharm": {
     "name": "#%% md\n"
    }
   },
   "source": [
    "## Question 2\n",
    "\n",
    "Write code to group the `adult` dataset by two columns and count the number of members in each group."
   ]
  },
  {
   "cell_type": "code",
   "execution_count": 15,
   "metadata": {
    "deletable": false,
    "nbgrader": {
     "cell_type": "code",
     "checksum": "bda137f6be4a2a7095dc70d8b2528979",
     "grade": false,
     "grade_id": "cell-f6a37efe405c4a98",
     "locked": false,
     "schema_version": 3,
     "solution": true,
     "task": false
    },
    "pycharm": {
     "name": "#%%\n"
    }
   },
   "outputs": [],
   "source": [
    "def group_two_count(col1, col2):\n",
    "    return adult.value_counts([col1, col2])"
   ]
  },
  {
   "cell_type": "code",
   "execution_count": 16,
   "metadata": {
    "deletable": false,
    "editable": false,
    "nbgrader": {
     "cell_type": "code",
     "checksum": "c97b74e43122b4e2e37616b5f36e5258",
     "grade": false,
     "grade_id": "cell-c5a57d9ba078cfd0",
     "locked": true,
     "schema_version": 3,
     "solution": false,
     "task": false
    },
    "pycharm": {
     "name": "#%%\n"
    }
   },
   "outputs": [
    {
     "data": {
      "text/plain": "Occupation         Education   \nCraft-repair       HS-grad         1922\nProf-specialty     Bachelors       1495\nExec-managerial    Bachelors       1369\nAdm-clerical       HS-grad         1365\n                   Some-college    1281\n                                   ... \nMachine-op-inspct  Prof-school        1\nProtective-serv    1st-4th            1\nProf-specialty     5th-6th            1\n                   Preschool          1\nProtective-serv    5th-6th            1\nLength: 201, dtype: int64"
     },
     "execution_count": 16,
     "metadata": {},
     "output_type": "execute_result"
    }
   ],
   "source": [
    "group_two_count('Occupation', 'Education')"
   ]
  },
  {
   "cell_type": "code",
   "execution_count": 17,
   "metadata": {
    "deletable": false,
    "editable": false,
    "nbgrader": {
     "cell_type": "code",
     "checksum": "e26daaeb47a1df9ef0be4d2d4f1ed2b8",
     "grade": true,
     "grade_id": "cell-88caedc5d6e44568",
     "locked": true,
     "points": 5,
     "schema_version": 3,
     "solution": false,
     "task": false
    },
    "pycharm": {
     "name": "#%%\n"
    }
   },
   "outputs": [],
   "source": [
    "s = group_two_count('Occupation', 'Education')\n",
    "assert s['Transport-moving']['Doctorate'] == 1\n",
    "assert s['Adm-clerical']['10th'] == 38"
   ]
  },
  {
   "cell_type": "markdown",
   "metadata": {
    "pycharm": {
     "name": "#%% md\n"
    }
   },
   "source": [
    "## Question 3\n",
    "\n",
    "Write code to perform a differencing attack to determine Brenn McNeely's age using only the `mean` aggregation function over large groups."
   ]
  },
  {
   "cell_type": "code",
   "execution_count": 18,
   "metadata": {
    "deletable": false,
    "nbgrader": {
     "cell_type": "code",
     "checksum": "7773da7ce0918a58a836b7721186befc",
     "grade": false,
     "grade_id": "cell-6fb63040052b0857",
     "locked": false,
     "schema_version": 3,
     "solution": true,
     "task": false
    },
    "pycharm": {
     "name": "#%%\n"
    }
   },
   "outputs": [],
   "source": [
    "def get_brenns_age():\n",
    "    mean = adult[\"Age\"].mean()\n",
    "    mean_no_brenn = adult[adult['Name'] != 'Brenn McNeely'][\"Age\"].mean()\n",
    "    return (len(adult)) * mean - len(adult[adult['Name'] != 'Brenn McNeely']) * mean_no_brenn\n",
    "\n",
    "brenns_age = get_brenns_age()"
   ]
  },
  {
   "cell_type": "code",
   "execution_count": 19,
   "metadata": {
    "deletable": false,
    "editable": false,
    "nbgrader": {
     "cell_type": "code",
     "checksum": "8e359a1337a76eba8bd234e4e8c2d02f",
     "grade": true,
     "grade_id": "cell-d66b7d6c32d256c6",
     "locked": true,
     "points": 5,
     "schema_version": 3,
     "solution": false,
     "task": false
    },
    "pycharm": {
     "name": "#%%\n"
    }
   },
   "outputs": [],
   "source": [
    "assert brenns_age == 38.0"
   ]
  },
  {
   "cell_type": "code",
   "execution_count": 27,
   "metadata": {
    "pycharm": {
     "name": "#%%\n"
    }
   },
   "outputs": [
    {
     "data": {
      "text/plain": "Education     Marital Status         Target\n5th-6th       Never-married          >50K         1\nPreschool     Divorced               <=50K        1\n12th          Widowed                >50K         1\n7th-8th       Married-spouse-absent  >50K         1\n12th          Never-married          >50K         1\n                                               ... \nBachelors     Never-married          <=50K     1613\n              Married-civ-spouse     >50K      1855\nSome-college  Never-married          <=50K     2880\nHS-grad       Never-married          <=50K     3043\n              Married-civ-spouse     <=50K     3336\nLength: 173, dtype: int64"
     },
     "execution_count": 27,
     "metadata": {},
     "output_type": "execute_result"
    }
   ],
   "source": [
    "df = adult[['Education', 'Marital Status', 'Target']]\n",
    "df.head(10)\n",
    "df.value_counts().sort_values()"
   ]
  },
  {
   "cell_type": "markdown",
   "metadata": {
    "pycharm": {
     "name": "#%% md\n"
    }
   },
   "source": [
    "## Question 4\n",
    "\n",
    "Does the dataset `df` satisfy $k$-Anonymity for $k=3$? Why not?"
   ]
  },
  {
   "cell_type": "markdown",
   "metadata": {
    "deletable": false,
    "nbgrader": {
     "cell_type": "markdown",
     "checksum": "c61aa8062b9dfebcfcc33281136fd17f",
     "grade": true,
     "grade_id": "cell-a9793d100ba20894",
     "locked": false,
     "points": 5,
     "schema_version": 3,
     "solution": true,
     "task": false
    },
    "pycharm": {
     "name": "#%% md\n"
    }
   },
   "source": [
    "No, because there's many combinations, such as 12th/never-married/>50k which belong to just one person."
   ]
  },
  {
   "cell_type": "markdown",
   "metadata": {
    "pycharm": {
     "name": "#%% md\n"
    }
   },
   "source": [
    "## Question 5\n",
    "\n",
    "What columns should we designate as quasi-identifiers in the dataset `df`, and why?"
   ]
  },
  {
   "cell_type": "markdown",
   "metadata": {
    "deletable": false,
    "nbgrader": {
     "cell_type": "markdown",
     "checksum": "533486216e9001e1b8e8c2af7b1ceff0",
     "grade": true,
     "grade_id": "cell-5cfd666564429892",
     "locked": false,
     "points": 5,
     "schema_version": 3,
     "solution": true,
     "task": false
    },
    "pycharm": {
     "name": "#%% md\n"
    }
   },
   "source": [
    "In general we should mark every column we want to keep as a QI. We should sacrifice data which is irrelevant to the question we are asking first, to preserve the information which we are trying to glean something from."
   ]
  },
  {
   "cell_type": "markdown",
   "metadata": {
    "pycharm": {
     "name": "#%% md\n"
    }
   },
   "source": [
    "## Question 6\n",
    "\n",
    "Imagine the column `Target` is *not* a quasi-identifier, and we generalize the dataset to achieve $k$-Anonymity for $k=2$ as follows:\n",
    "\n",
    "- Replace each education level below \"HS Grad\" with `< HS` and others with `>= HS`\n",
    "- Replace marital status with `Married` and `Not Married`\n",
    "- Delete rows as required to achieve $k$-anonymity for $k=2$\n",
    "\n",
    "For which rows is a homogeneity attack possible, and why?"
   ]
  },
  {
   "cell_type": "markdown",
   "metadata": {
    "deletable": false,
    "nbgrader": {
     "cell_type": "markdown",
     "checksum": "cf4facb2adda1e9a3e769bc994597e64",
     "grade": true,
     "grade_id": "cell-5932f02f09b5cacb",
     "locked": false,
     "points": 5,
     "schema_version": 3,
     "solution": true,
     "task": false
    },
    "pycharm": {
     "name": "#%% md\n"
    }
   },
   "source": [
    "To the best of my understanding, if there exists a combination of education and marital status for which all people fall into the same Target category, then a homogeneity attack is possible."
   ]
  },
  {
   "cell_type": "markdown",
   "metadata": {
    "pycharm": {
     "name": "#%% md\n"
    }
   },
   "source": [
    "## Question 7\n",
    "\n",
    "Write code to generalize the `Zip` column in the adult dataset."
   ]
  },
  {
   "cell_type": "code",
   "execution_count": 23,
   "metadata": {
    "deletable": false,
    "nbgrader": {
     "cell_type": "code",
     "checksum": "ae1bd87895a7b5a030e010032949c5f6",
     "grade": false,
     "grade_id": "cell-be9a4264a0e58938",
     "locked": false,
     "schema_version": 3,
     "solution": true,
     "task": false
    },
    "pycharm": {
     "name": "#%%\n"
    }
   },
   "outputs": [],
   "source": [
    "def generalize_zip(zip, l):\n",
    "    return zip - (zip % (10 ** l))"
   ]
  },
  {
   "cell_type": "code",
   "execution_count": 24,
   "outputs": [],
   "source": [
    "# Test cases\n",
    "assert generalize_zip(47401, 0) == 47401\n",
    "assert generalize_zip(47401, 1) == 47400\n",
    "assert generalize_zip(47401, 2) == 47400\n",
    "assert generalize_zip(47401, 3) == 47000\n",
    "assert generalize_zip(47401, 4) == 40000\n",
    "assert generalize_zip(47401, 5) == 0"
   ],
   "metadata": {
    "collapsed": false,
    "pycharm": {
     "name": "#%%\n"
    }
   }
  },
  {
   "cell_type": "code",
   "execution_count": null,
   "outputs": [],
   "source": [],
   "metadata": {
    "collapsed": false,
    "pycharm": {
     "name": "#%%\n"
    }
   }
  }
 ],
 "metadata": {
  "kernelspec": {
   "display_name": "Python 3 (ipykernel)",
   "language": "python",
   "name": "python3"
  },
  "language_info": {
   "codemirror_mode": {
    "name": "ipython",
    "version": 3
   },
   "file_extension": ".py",
   "mimetype": "text/x-python",
   "name": "python",
   "nbconvert_exporter": "python",
   "pygments_lexer": "ipython3",
   "version": "3.8.11"
  }
 },
 "nbformat": 4,
 "nbformat_minor": 4
}