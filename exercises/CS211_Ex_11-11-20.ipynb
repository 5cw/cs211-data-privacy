{
 "cells": [
  {
   "cell_type": "markdown",
   "metadata": {},
   "source": [
    "# CS211: Data Privacy\n",
    "## In-Class Exercise, 11/11/2020"
   ]
  },
  {
   "cell_type": "code",
   "execution_count": null,
   "metadata": {},
   "outputs": [],
   "source": [
    "# Load the data and libraries\n",
    "import pandas as pd\n",
    "import numpy as np\n",
    "from scipy import stats\n",
    "import matplotlib.pyplot as plt\n",
    "plt.style.use('seaborn-whitegrid')\n",
    "\n",
    "def laplace_mech(v, sensitivity, epsilon):\n",
    "    return v + np.random.laplace(loc=0, scale=sensitivity / epsilon)\n",
    "\n",
    "def gaussian_mech(v, sensitivity, epsilon, delta):\n",
    "    return v + np.random.normal(loc=0, scale=sensitivity * np.sqrt(2*np.log(1.25/delta)) / epsilon)\n",
    "\n",
    "def gaussian_mech_vec(vec, sensitivity, epsilon, delta):\n",
    "    return [v + np.random.normal(loc=0, scale=sensitivity * np.sqrt(2*np.log(1.25/delta)) / epsilon)\n",
    "            for v in vec]\n",
    "\n",
    "def pct_error(orig, priv):\n",
    "    return np.abs(orig - priv)/orig * 100.0\n",
    "\n",
    "adult = pd.read_csv('https://github.com/jnear/cs211-data-privacy/raw/master/homework/adult_with_pii.csv')"
   ]
  },
  {
   "cell_type": "markdown",
   "metadata": {},
   "source": [
    "## Question 1\n",
    "\n",
    "Implement an *encoding function* for randomized response to a \"yes/no\" question.\n",
    "\n",
    "Reference [Chapter 13](https://uvm-plaid.github.io/programming-dp/notebooks/ch13.html#randomized-response)."
   ]
  },
  {
   "cell_type": "code",
   "execution_count": null,
   "metadata": {
    "deletable": false,
    "nbgrader": {
     "cell_type": "code",
     "checksum": "585becc6c2a189f373fbed5bf9d92571",
     "grade": false,
     "grade_id": "cell-c52b65e148358a20",
     "locked": false,
     "schema_version": 3,
     "solution": true,
     "task": false
    }
   },
   "outputs": [],
   "source": [
    "def encode_rand_resp_yes_no(true_response):\n",
    "    # YOUR CODE HERE\n",
    "    raise NotImplementedError()\n",
    "\n",
    "for _ in range(5):\n",
    "    print('Randomized response:', encode_rand_resp_yes_no(True))"
   ]
  },
  {
   "cell_type": "code",
   "execution_count": null,
   "metadata": {
    "deletable": false,
    "editable": false,
    "nbgrader": {
     "cell_type": "code",
     "checksum": "dd3171935ae026a2a87d2f9c0cfb0b0f",
     "grade": true,
     "grade_id": "cell-5fa94c04030de1ba",
     "locked": true,
     "points": 5,
     "schema_version": 3,
     "solution": false,
     "task": false
    }
   },
   "outputs": [],
   "source": [
    "# TEST CASE\n",
    "assert np.sum([encode_rand_resp_yes_no(True) for _ in range(100)]) > 60\n",
    "assert np.sum([encode_rand_resp_yes_no(True) for _ in range(100)]) < 90"
   ]
  },
  {
   "cell_type": "markdown",
   "metadata": {},
   "source": [
    "## Question 2\n",
    "\n",
    "Implement a *decoding function* for randomized response to a \"yes/no\" question."
   ]
  },
  {
   "cell_type": "code",
   "execution_count": null,
   "metadata": {
    "deletable": false,
    "nbgrader": {
     "cell_type": "code",
     "checksum": "35ba81913900c6e8994022dedc101641",
     "grade": false,
     "grade_id": "cell-3d62f78f67a975f0",
     "locked": false,
     "schema_version": 3,
     "solution": true,
     "task": false
    }
   },
   "outputs": [],
   "source": [
    "def decode_rand_resp_yes_no(responses):\n",
    "    # YOUR CODE HERE\n",
    "    raise NotImplementedError()\n",
    "\n",
    "# Example: 1000 \"yesses\" and 500 \"nos\"\n",
    "true_responses = [True for _ in range(1000)] + [False for _ in range(500)]\n",
    "print('Number of \"True\" yesses:', np.sum(true_responses))\n",
    "\n",
    "# Randomized responses\n",
    "# Each response satisfies 1.09-differential privacy\n",
    "rand_responses = [encode_rand_resp_yes_no(r) for r in true_responses]\n",
    "\n",
    "# Decode the responses by subtracting \"fake\" yesses\n",
    "print('Decoded randomized response yesses:', decode_rand_resp_yes_no(rand_responses))"
   ]
  },
  {
   "cell_type": "code",
   "execution_count": null,
   "metadata": {
    "deletable": false,
    "editable": false,
    "nbgrader": {
     "cell_type": "code",
     "checksum": "03118c1fcd501bb7a6d74244d45f6dd8",
     "grade": true,
     "grade_id": "cell-cc5191292192a8f0",
     "locked": true,
     "points": 5,
     "schema_version": 3,
     "solution": false,
     "task": false
    }
   },
   "outputs": [],
   "source": [
    "# TEST CASE\n",
    "true_responses = [True for _ in range(1000)] + [False for _ in range(500)]\n",
    "\n",
    "# Randomized responses\n",
    "# Each response satisfies 1.09-differential privacy\n",
    "rand_responses = [encode_rand_resp_yes_no(r) for r in true_responses]\n",
    "\n",
    "# Decode the responses by subtracting \"fake\" yesses\n",
    "assert decode_rand_resp_yes_no(rand_responses) < 1100\n",
    "assert decode_rand_resp_yes_no(rand_responses) > 900"
   ]
  }
 ],
 "metadata": {
  "kernelspec": {
   "display_name": "Python 3",
   "language": "python",
   "name": "python3"
  },
  "language_info": {
   "codemirror_mode": {
    "name": "ipython",
    "version": 3
   },
   "file_extension": ".py",
   "mimetype": "text/x-python",
   "name": "python",
   "nbconvert_exporter": "python",
   "pygments_lexer": "ipython3",
   "version": "3.6.10"
  }
 },
 "nbformat": 4,
 "nbformat_minor": 4
}
