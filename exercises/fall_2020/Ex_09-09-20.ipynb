{
 "cells": [
  {
   "cell_type": "markdown",
   "metadata": {},
   "source": [
    "# CS211: Data Privacy\n",
    "## In-Class Exercise, 9/2/2020"
   ]
  },
  {
   "cell_type": "code",
   "execution_count": null,
   "metadata": {},
   "outputs": [],
   "source": [
    "# Load the data and libraries\n",
    "import pandas as pd\n",
    "import numpy as np\n",
    "\n",
    "cols = ['Name', 'Age', 'Gender', 'State of domicile', 'Religion', 'Disease']\n",
    "rows = [['Ramsha', '30', 'Female', 'Tamil Nadu', 'Hindu', 'Cancer'],\n",
    "    ['Yadu', '24', 'Female', 'Kerala', 'Hindu', 'Viral infection'],\n",
    "    ['Salima', '28', 'Female', 'Tamil Nadu', 'Muslim', 'TB'],\n",
    "    ['Sunny', '27', 'Male', 'Karnataka', 'Parsi', 'No illness'],\n",
    "    ['Joan', '24', 'Female', 'Kerala', 'Christian', 'Heart-related'],\n",
    "    ['Bahuksana', '23', 'Male', 'Karnataka', 'Buddhist', 'TB'],\n",
    "    ['Rambha', '19', 'Male', 'Kerala', 'Hindu', 'Cancer'],\n",
    "    ['Kishor', '29', 'Male', 'Karnataka', 'Hindu', 'Heart-related'],\n",
    "    ['Johnson', '17', 'Male', 'Kerala', 'Christian', 'Heart-related'],\n",
    "    ['John', '19', 'Male', 'Kerala', 'Christian', 'Viral infection']]\n",
    "\n",
    "df = pd.DataFrame(rows, columns = cols) \n",
    "df"
   ]
  },
  {
   "cell_type": "markdown",
   "metadata": {},
   "source": [
    "## Question 1 (5 points)\n",
    "\n",
    "Does the dataset `df` satisfy $k$-Anonymity for $k=3$? Why not?"
   ]
  },
  {
   "cell_type": "markdown",
   "metadata": {
    "deletable": false,
    "nbgrader": {
     "cell_type": "markdown",
     "checksum": "c61aa8062b9dfebcfcc33281136fd17f",
     "grade": true,
     "grade_id": "cell-a9793d100ba20894",
     "locked": false,
     "points": 5,
     "schema_version": 3,
     "solution": true,
     "task": false
    }
   },
   "source": [
    "YOUR ANSWER HERE"
   ]
  },
  {
   "cell_type": "markdown",
   "metadata": {},
   "source": [
    "## Question 2 (5 points)\n",
    "\n",
    "What columns should we designate as quasi-identifiers in the dataset `df`, and why?"
   ]
  },
  {
   "cell_type": "markdown",
   "metadata": {
    "deletable": false,
    "nbgrader": {
     "cell_type": "markdown",
     "checksum": "533486216e9001e1b8e8c2af7b1ceff0",
     "grade": true,
     "grade_id": "cell-5cfd666564429892",
     "locked": false,
     "points": 5,
     "schema_version": 3,
     "solution": true,
     "task": false
    }
   },
   "source": [
    "YOUR ANSWER HERE"
   ]
  },
  {
   "cell_type": "markdown",
   "metadata": {},
   "source": [
    "## Question 3 (5 points)\n",
    "\n",
    "Imagine the column `Disease` is *not* a quasi-identifier, and we generalize the dataset to achieve $k$-Anonymity for $k=2$. For which rows is a homogeneity attack possible, and why?"
   ]
  },
  {
   "cell_type": "markdown",
   "metadata": {
    "deletable": false,
    "nbgrader": {
     "cell_type": "markdown",
     "checksum": "cf4facb2adda1e9a3e769bc994597e64",
     "grade": true,
     "grade_id": "cell-5932f02f09b5cacb",
     "locked": false,
     "points": 5,
     "schema_version": 3,
     "solution": true,
     "task": false
    }
   },
   "source": [
    "YOUR ANSWER HERE"
   ]
  },
  {
   "cell_type": "markdown",
   "metadata": {},
   "source": [
    "## Question 4 (5 points)\n",
    "\n",
    "How could we generalize the column `Age` to achieve $k$-Anonymity for $k=3$?"
   ]
  },
  {
   "cell_type": "markdown",
   "metadata": {
    "deletable": false,
    "nbgrader": {
     "cell_type": "markdown",
     "checksum": "e12830ea31ed2c7d1f7a46390d4aabc4",
     "grade": true,
     "grade_id": "cell-58e8ca844b2373b4",
     "locked": false,
     "points": 5,
     "schema_version": 3,
     "solution": true,
     "task": false
    }
   },
   "source": [
    "YOUR ANSWER HERE"
   ]
  }
 ],
 "metadata": {
  "kernelspec": {
   "display_name": "Python 3",
   "language": "python",
   "name": "python3"
  },
  "language_info": {
   "codemirror_mode": {
    "name": "ipython",
    "version": 3
   },
   "file_extension": ".py",
   "mimetype": "text/x-python",
   "name": "python",
   "nbconvert_exporter": "python",
   "pygments_lexer": "ipython3",
   "version": "3.6.10"
  }
 },
 "nbformat": 4,
 "nbformat_minor": 4
}
