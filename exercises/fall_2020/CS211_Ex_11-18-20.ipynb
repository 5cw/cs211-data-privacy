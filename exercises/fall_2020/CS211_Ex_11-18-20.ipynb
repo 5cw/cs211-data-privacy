{
 "cells": [
  {
   "cell_type": "markdown",
   "metadata": {},
   "source": [
    "# CS211: Data Privacy\n",
    "## In-Class Exercise, 11/18/2020"
   ]
  },
  {
   "cell_type": "code",
   "execution_count": null,
   "metadata": {},
   "outputs": [],
   "source": [
    "# Load the data and libraries\n",
    "import pandas as pd\n",
    "import numpy as np\n",
    "from scipy import stats\n",
    "import matplotlib.pyplot as plt\n",
    "plt.style.use('seaborn-whitegrid')\n",
    "\n",
    "def laplace_mech(v, sensitivity, epsilon):\n",
    "    return v + np.random.laplace(loc=0, scale=sensitivity / epsilon)\n",
    "\n",
    "def gaussian_mech(v, sensitivity, epsilon, delta):\n",
    "    return v + np.random.normal(loc=0, scale=sensitivity * np.sqrt(2*np.log(1.25/delta)) / epsilon)\n",
    "\n",
    "def gaussian_mech_vec(vec, sensitivity, epsilon, delta):\n",
    "    return [v + np.random.normal(loc=0, scale=sensitivity * np.sqrt(2*np.log(1.25/delta)) / epsilon)\n",
    "            for v in vec]\n",
    "\n",
    "def pct_error(orig, priv):\n",
    "    return np.abs(orig - priv)/orig * 100.0\n",
    "\n",
    "adult = pd.read_csv('https://github.com/jnear/cs211-data-privacy/raw/master/homework/adult_with_pii.csv')"
   ]
  },
  {
   "cell_type": "code",
   "execution_count": null,
   "metadata": {},
   "outputs": [],
   "source": [
    "def range_query_synth(syn_rep, a, b):\n",
    "    total = 0\n",
    "    for i in range(a, b):\n",
    "        total += syn_rep[i]\n",
    "    return total\n",
    "\n",
    "def age_hist(epsilon):\n",
    "    results = [len(adult[adult['Age'] == age]) for age in range(0, 100)]\n",
    "    noisy_results = [laplace_mech(v, 1, epsilon) for v in results]\n",
    "    return noisy_results"
   ]
  },
  {
   "cell_type": "markdown",
   "metadata": {},
   "source": [
    "## Accuracy of Synthetic Representation"
   ]
  },
  {
   "cell_type": "code",
   "execution_count": null,
   "metadata": {},
   "outputs": [],
   "source": [
    "epsilon = 1.0\n",
    "syn_rep = age_hist(epsilon)\n",
    "\n",
    "# Query 1: count with 40 <= age < 43\n",
    "true_answer = len(adult[(adult['Age'] >= 40) & (adult['Age'] < 43)])\n",
    "print('Q1 percent error, synthetic representation:', \n",
    "      pct_error(true_answer, range_query_synth(syn_rep, 40, 43)))\n",
    "\n",
    "lap_answer = laplace_mech(true_answer, 1, epsilon)\n",
    "print('Q1 percent error, Laplace mechanism:', \n",
    "      pct_error(true_answer, lap_answer))"
   ]
  },
  {
   "cell_type": "code",
   "execution_count": null,
   "metadata": {},
   "outputs": [],
   "source": [
    "# Query 2: count with 25 <= age < 53\n",
    "true_answer = len(adult[(adult['Age'] >= 25) & (adult['Age'] < 53)])\n",
    "print('Q2 percent error, synthetic representation:', \n",
    "      pct_error(true_answer, range_query_synth(syn_rep, 25, 53)))\n",
    "\n",
    "lap_answer = laplace_mech(true_answer, 1, epsilon)\n",
    "print('Q2 percent error, Laplace mechanism:', \n",
    "      pct_error(true_answer, lap_answer))"
   ]
  },
  {
   "cell_type": "markdown",
   "metadata": {},
   "source": [
    "## Question 1\n",
    "\n",
    "Which approach gives more accurate answers: the Laplace mechanism or the synthetic representation? Under what conditions is the synthetic representation good, and under what conditions is is not as good?"
   ]
  },
  {
   "cell_type": "markdown",
   "metadata": {
    "deletable": false,
    "nbgrader": {
     "cell_type": "markdown",
     "checksum": "4d2f55b9e9ae33b356d6e2ba1f80ba75",
     "grade": true,
     "grade_id": "cell-1438d163beace36c",
     "locked": false,
     "points": 5,
     "schema_version": 3,
     "solution": true,
     "task": false
    }
   },
   "source": [
    "YOUR ANSWER HERE"
   ]
  },
  {
   "cell_type": "markdown",
   "metadata": {},
   "source": [
    "## Question 2\n",
    "\n",
    "Implement a synthetic representation for *two dimensions*: `Age` and `Occupation`."
   ]
  },
  {
   "cell_type": "code",
   "execution_count": null,
   "metadata": {
    "deletable": false,
    "nbgrader": {
     "cell_type": "code",
     "checksum": "ca34c626fb0ce91a8593e7c921903f7e",
     "grade": true,
     "grade_id": "cell-a0faf5fa5388a9aa",
     "locked": false,
     "points": 5,
     "schema_version": 3,
     "solution": true,
     "task": false
    }
   },
   "outputs": [],
   "source": [
    "ages = range(0, 100)\n",
    "occupations = adult['Occupation'].dropna().unique()\n",
    "\n",
    "def age_occupation_hist(epsilon):\n",
    "    # YOUR CODE HERE\n",
    "    raise NotImplementedError()\n",
    "\n",
    "age_occupation_hist(1.0)"
   ]
  },
  {
   "cell_type": "markdown",
   "metadata": {},
   "source": [
    "## Question 3\n",
    "\n",
    "Using the synthetic representation from Question 2, implement functions to calculate the *two-way marginal distribution* and generate synthetic data samples."
   ]
  },
  {
   "cell_type": "code",
   "execution_count": null,
   "metadata": {
    "deletable": false,
    "nbgrader": {
     "cell_type": "code",
     "checksum": "e689cf4170c60aa50d5c40c004f93dee",
     "grade": true,
     "grade_id": "cell-38722fad8a6dacb4",
     "locked": false,
     "points": 5,
     "schema_version": 3,
     "solution": true,
     "task": false
    }
   },
   "outputs": [],
   "source": [
    "def age_occupation_marginal(epsilon):\n",
    "    # YOUR CODE HERE\n",
    "    raise NotImplementedError()\n",
    "\n",
    "def gen_samples(n, marginal):\n",
    "    # YOUR CODE HERE\n",
    "    raise NotImplementedError()\n",
    "\n",
    "marginal = age_occupation_marginal(1.0)\n",
    "gen_samples(15, marginal)"
   ]
  }
 ],
 "metadata": {
  "kernelspec": {
   "display_name": "Python 3",
   "language": "python",
   "name": "python3"
  },
  "language_info": {
   "codemirror_mode": {
    "name": "ipython",
    "version": 3
   },
   "file_extension": ".py",
   "mimetype": "text/x-python",
   "name": "python",
   "nbconvert_exporter": "python",
   "pygments_lexer": "ipython3",
   "version": "3.6.10"
  }
 },
 "nbformat": 4,
 "nbformat_minor": 4
}
