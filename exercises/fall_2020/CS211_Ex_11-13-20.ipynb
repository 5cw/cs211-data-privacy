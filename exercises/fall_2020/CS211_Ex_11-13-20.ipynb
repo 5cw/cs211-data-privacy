{
 "cells": [
  {
   "cell_type": "markdown",
   "metadata": {},
   "source": [
    "# CS211: Data Privacy\n",
    "## In-Class Exercise, 11/13/2020"
   ]
  },
  {
   "cell_type": "code",
   "execution_count": null,
   "metadata": {},
   "outputs": [],
   "source": [
    "# Load the data and libraries\n",
    "import pandas as pd\n",
    "import numpy as np\n",
    "from scipy import stats\n",
    "import matplotlib.pyplot as plt\n",
    "plt.style.use('seaborn-whitegrid')\n",
    "\n",
    "def laplace_mech(v, sensitivity, epsilon):\n",
    "    return v + np.random.laplace(loc=0, scale=sensitivity / epsilon)\n",
    "\n",
    "def gaussian_mech(v, sensitivity, epsilon, delta):\n",
    "    return v + np.random.normal(loc=0, scale=sensitivity * np.sqrt(2*np.log(1.25/delta)) / epsilon)\n",
    "\n",
    "def gaussian_mech_vec(vec, sensitivity, epsilon, delta):\n",
    "    return [v + np.random.normal(loc=0, scale=sensitivity * np.sqrt(2*np.log(1.25/delta)) / epsilon)\n",
    "            for v in vec]\n",
    "\n",
    "def pct_error(orig, priv):\n",
    "    return np.abs(orig - priv)/orig * 100.0\n",
    "\n",
    "adult = pd.read_csv('https://github.com/jnear/cs211-data-privacy/raw/master/homework/adult_with_pii.csv')"
   ]
  },
  {
   "cell_type": "markdown",
   "metadata": {},
   "source": [
    "## Randomized Response"
   ]
  },
  {
   "cell_type": "code",
   "execution_count": null,
   "metadata": {},
   "outputs": [],
   "source": [
    "def encode_rand_resp_yes_no(true_response):   \n",
    "    # first coin flip\n",
    "    if np.random.randint(0, 2) == 0:\n",
    "        # answer truthfully\n",
    "        return true_response\n",
    "    else:\n",
    "        # answer randomly (second coin flip)\n",
    "        return np.random.randint(0, 2) == 0\n",
    "\n",
    "def decode_rand_resp_yes_no(responses):\n",
    "    fake_yesses = len(responses)/2\n",
    "    num_yesses = 2*np.sum([1 if r else 0 for r in responses])\n",
    "    true_yesses = num_yesses - fake_yesses\n",
    "    \n",
    "    return true_yesses"
   ]
  },
  {
   "cell_type": "markdown",
   "metadata": {},
   "source": [
    "## Question 1\n",
    "\n",
    "Use the definition of randomized response above to answer the question:\n",
    "\n",
    "*How many individuals in the `adult` dataset have `Occupation` = `Sales`?*"
   ]
  },
  {
   "cell_type": "code",
   "execution_count": null,
   "metadata": {
    "deletable": false,
    "nbgrader": {
     "cell_type": "code",
     "checksum": "bb151fbc3658f27bca2eb4e0b00a7cc1",
     "grade": true,
     "grade_id": "cell-70d43cb566527293",
     "locked": false,
     "points": 5,
     "schema_version": 3,
     "solution": true,
     "task": false
    }
   },
   "outputs": [],
   "source": [
    "# take a single occupation from the adult dataset, and return a single response\n",
    "def encode_response_sales(response):\n",
    "    # YOUR CODE HERE\n",
    "    raise NotImplementedError()\n",
    "    \n",
    "def decode_responses_sales(responses):\n",
    "    # YOUR CODE HERE\n",
    "    raise NotImplementedError()\n",
    "\n",
    "responses = [encode_response_sales(r) for r in adult['Occupation']]\n",
    "decode_responses_sales(responses)"
   ]
  },
  {
   "cell_type": "code",
   "execution_count": null,
   "metadata": {},
   "outputs": [],
   "source": [
    "# How accurate is the answer above?\n",
    "true_sales = np.sum(adult['Occupation'] == 'Sales')\n",
    "print('True number of salespeople:', true_sales)"
   ]
  },
  {
   "cell_type": "markdown",
   "metadata": {},
   "source": [
    "## Question 2\n",
    "\n",
    "Implement the *encode* and *perturb* steps for Optimized Unary Hashing."
   ]
  },
  {
   "cell_type": "code",
   "execution_count": null,
   "metadata": {
    "deletable": false,
    "nbgrader": {
     "cell_type": "code",
     "checksum": "94f69181b7d48360d0c38a8835f8ab80",
     "grade": true,
     "grade_id": "cell-1809db88535aed7e",
     "locked": false,
     "points": 0,
     "schema_version": 3,
     "solution": true,
     "task": false
    }
   },
   "outputs": [],
   "source": [
    "domain = adult['Occupation'].dropna().unique()\n",
    "domain\n",
    "\n",
    "def encode(response):\n",
    "    # YOUR CODE HERE\n",
    "    raise NotImplementedError()\n",
    "\n",
    "encode('Sales')\n",
    "\n",
    "def perturb(encoded_response):\n",
    "    # YOUR CODE HERE\n",
    "    raise NotImplementedError()\n",
    "\n",
    "perturb(encode('Sales'))"
   ]
  },
  {
   "cell_type": "code",
   "execution_count": null,
   "metadata": {},
   "outputs": [],
   "source": [
    "# As in randomized response, flipping of bits causes issues in the answers\n",
    "# This is the perturbed answer (without decoding)\n",
    "counts = np.sum([perturb(encode(r)) for r in adult['Occupation']], axis=0)\n",
    "list(zip(domain, counts))"
   ]
  },
  {
   "cell_type": "code",
   "execution_count": null,
   "metadata": {},
   "outputs": [],
   "source": [
    "# This is the real answer\n",
    "counts = np.sum([encode(r) for r in adult['Occupation']], axis=0)\n",
    "list(zip(domain, counts))"
   ]
  },
  {
   "cell_type": "markdown",
   "metadata": {},
   "source": [
    "## Question 3\n",
    "\n",
    "Implement the *aggregate* step for Optimized Unary Hashing."
   ]
  },
  {
   "cell_type": "code",
   "execution_count": null,
   "metadata": {
    "deletable": false,
    "nbgrader": {
     "cell_type": "code",
     "checksum": "09c92809a8c72fd160565bf7d09496dd",
     "grade": true,
     "grade_id": "cell-0c8cd0a758266161",
     "locked": false,
     "points": 5,
     "schema_version": 3,
     "solution": true,
     "task": false
    }
   },
   "outputs": [],
   "source": [
    "def aggregate(responses):\n",
    "    # YOUR CODE HERE\n",
    "    raise NotImplementedError()\n",
    "\n",
    "responses = [perturb(encode(r)) for r in adult['Occupation']]\n",
    "counts = aggregate(responses)\n",
    "list(zip(domain, counts))"
   ]
  }
 ],
 "metadata": {
  "kernelspec": {
   "display_name": "Python 3",
   "language": "python",
   "name": "python3"
  },
  "language_info": {
   "codemirror_mode": {
    "name": "ipython",
    "version": 3
   },
   "file_extension": ".py",
   "mimetype": "text/x-python",
   "name": "python",
   "nbconvert_exporter": "python",
   "pygments_lexer": "ipython3",
   "version": "3.6.10"
  }
 },
 "nbformat": 4,
 "nbformat_minor": 4
}
