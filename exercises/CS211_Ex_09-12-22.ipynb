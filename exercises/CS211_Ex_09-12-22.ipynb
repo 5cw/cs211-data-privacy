{
 "cells": [
  {
   "cell_type": "markdown",
   "metadata": {
    "pycharm": {
     "name": "#%% md\n"
    }
   },
   "source": [
    "# CS211: Data Privacy\n",
    "## In-Class Exercises, week of 9/12/2022"
   ]
  },
  {
   "cell_type": "code",
   "execution_count": 2,
   "metadata": {
    "pycharm": {
     "name": "#%%\n"
    }
   },
   "outputs": [],
   "source": [
    "# Load the data and libraries\n",
    "import pandas as pd\n",
    "import numpy as np\n",
    "from scipy import stats\n",
    "import matplotlib.pyplot as plt\n",
    "plt.style.use('seaborn-whitegrid')\n",
    "\n",
    "adult = pd.read_csv('https://github.com/jnear/cs211-data-privacy/raw/master/homework/adult_with_pii.csv')"
   ]
  },
  {
   "cell_type": "markdown",
   "metadata": {
    "pycharm": {
     "name": "#%% md\n"
    }
   },
   "source": [
    "## Question 1\n",
    "\n",
    "Write a *counting query* to determine whether or not Karrie Trusslove's age is 39."
   ]
  },
  {
   "cell_type": "code",
   "execution_count": 3,
   "metadata": {
    "deletable": false,
    "nbgrader": {
     "cell_type": "code",
     "checksum": "5868fbd8a4651094c7814b84b4015247",
     "grade": false,
     "grade_id": "cell-e9c0c06eb7735ea3",
     "locked": false,
     "schema_version": 3,
     "solution": true,
     "task": false
    },
    "pycharm": {
     "name": "#%%\n"
    }
   },
   "outputs": [],
   "source": [
    "# YOUR CODE HERE\n",
    "def karrie_query():\n",
    "    karries_row = adult[adult['Name'] == 'Karrie Trusslove']\n",
    "    return karries_row[karries_row['Age'] == 39].shape[0]"
   ]
  },
  {
   "cell_type": "code",
   "execution_count": 4,
   "metadata": {
    "deletable": false,
    "editable": false,
    "nbgrader": {
     "cell_type": "code",
     "checksum": "892dc90720e17d35952c0effcc37f458",
     "grade": true,
     "grade_id": "cell-f93cfd0eb59130ed",
     "locked": true,
     "points": 5,
     "schema_version": 3,
     "solution": false,
     "task": false
    },
    "pycharm": {
     "name": "#%%\n"
    }
   },
   "outputs": [],
   "source": [
    "# TEST CASE \n",
    "\n",
    "assert karrie_query() == 1"
   ]
  },
  {
   "cell_type": "markdown",
   "metadata": {
    "pycharm": {
     "name": "#%% md\n"
    }
   },
   "source": [
    "## Question 2\n",
    "\n",
    "Add Laplace noise to the counting query you wrote in the last question to ensure differential privacy for $\\epsilon = 1.0$."
   ]
  },
  {
   "cell_type": "code",
   "execution_count": 11,
   "metadata": {
    "deletable": false,
    "nbgrader": {
     "cell_type": "code",
     "checksum": "69717756b100a54b71507c8fa2b9f55e",
     "grade": false,
     "grade_id": "cell-8ad72c55497bc534",
     "locked": false,
     "schema_version": 3,
     "solution": true,
     "task": false
    },
    "pycharm": {
     "name": "#%%\n"
    }
   },
   "outputs": [],
   "source": [
    "# YOUR CODE HERE\n",
    "epsilon = 1\n",
    "sensitivity = 1\n",
    "def dp_karrie_query():\n",
    "    return karrie_query() + np.random.laplace(loc=0, scale=sensitivity/epsilon)"
   ]
  },
  {
   "cell_type": "code",
   "execution_count": 12,
   "metadata": {
    "deletable": false,
    "editable": false,
    "nbgrader": {
     "cell_type": "code",
     "checksum": "baa91c2bfe1e6987c6f337732f61ac5f",
     "grade": true,
     "grade_id": "cell-a7c9bd084e5c5bdf",
     "locked": true,
     "points": 5,
     "schema_version": 3,
     "solution": false,
     "task": false
    },
    "pycharm": {
     "name": "#%%\n"
    }
   },
   "outputs": [],
   "source": [
    "# TEST CASE \n",
    "\n",
    "q2_runs = [dp_karrie_query() for _ in range(100)]\n",
    "noise_runs = [np.random.laplace(loc=1, scale=1/epsilon) for _ in range(100)]\n",
    "\n",
    "assert stats.wasserstein_distance(q2_runs, noise_runs) < 1"
   ]
  },
  {
   "cell_type": "markdown",
   "metadata": {
    "pycharm": {
     "name": "#%% md\n"
    }
   },
   "source": [
    "## Question 3\n",
    "\n",
    "In 2-4 sentences, describe how `dp_karrie_query` protects Karrie's privacy."
   ]
  },
  {
   "cell_type": "markdown",
   "metadata": {
    "deletable": false,
    "nbgrader": {
     "cell_type": "markdown",
     "checksum": "b23a9213e39e3363e4d3e7cc629a15a4",
     "grade": true,
     "grade_id": "cell-07337a085c0ba0e1",
     "locked": false,
     "points": 5,
     "schema_version": 3,
     "solution": true,
     "task": false
    },
    "pycharm": {
     "name": "#%% md\n"
    }
   },
   "source": [
    "We add noise to introduce artificial uncertainty to the answer\n",
    "The noise prevents us from making inferences about Karrie's age with 100% accuracy\n",
    "I am roughly equally likely to see a particular answer for the query, regardless of carrie's age"
   ]
  },
  {
   "cell_type": "markdown",
   "metadata": {
    "pycharm": {
     "name": "#%% md\n"
    }
   },
   "source": [
    "## Question 4\n",
    "\n",
    "Implement a function to construct an *empirical distribution* over random samples from the Laplace distribution with location 0 and scale `scale`. Use 1000 samples."
   ]
  },
  {
   "cell_type": "code",
   "execution_count": 13,
   "metadata": {
    "deletable": false,
    "nbgrader": {
     "cell_type": "code",
     "checksum": "36e271e39d3b9efb374514de6b58c769",
     "grade": false,
     "grade_id": "cell-e7ddf0e4b195dfdc",
     "locked": false,
     "schema_version": 3,
     "solution": true,
     "task": false
    },
    "pycharm": {
     "name": "#%%\n"
    }
   },
   "outputs": [
    {
     "data": {
      "text/plain": "(array([  1.,   0.,   0.,   0.,   0.,   0.,   2.,   0.,   3.,   2.,   2.,\n          2.,   5.,   3.,   7.,   4.,   5.,  10.,  10.,  22.,  17.,  20.,\n         27.,  36.,  58.,  69., 105., 122., 124.,  96.,  61.,  49.,  37.,\n         25.,  23.,   9.,   7.,   4.,   8.,   4.,   9.,   1.,   3.,   2.,\n          1.,   2.,   2.,   0.,   0.,   1.]),\n array([-3.91063532, -3.76963641, -3.6286375 , -3.48763858, -3.34663967,\n        -3.20564076, -3.06464185, -2.92364294, -2.78264402, -2.64164511,\n        -2.5006462 , -2.35964729, -2.21864838, -2.07764947, -1.93665055,\n        -1.79565164, -1.65465273, -1.51365382, -1.37265491, -1.231656  ,\n        -1.09065708, -0.94965817, -0.80865926, -0.66766035, -0.52666144,\n        -0.38566253, -0.24466361, -0.1036647 ,  0.03733421,  0.17833312,\n         0.31933203,  0.46033095,  0.60132986,  0.74232877,  0.88332768,\n         1.02432659,  1.1653255 ,  1.30632442,  1.44732333,  1.58832224,\n         1.72932115,  1.87032006,  2.01131897,  2.15231789,  2.2933168 ,\n         2.43431571,  2.57531462,  2.71631353,  2.85731245,  2.99831136,\n         3.13931027]),\n <BarContainer object of 50 artists>)"
     },
     "execution_count": 13,
     "metadata": {},
     "output_type": "execute_result"
    },
    {
     "data": {
      "text/plain": "<Figure size 432x288 with 1 Axes>",
      "image/png": "[encoded data removed]"
     },
     "metadata": {},
     "output_type": "display_data"
    }
   ],
   "source": [
    "def empirical_dist_lap(scale):\n",
    "    return [np.random.laplace(loc=0, scale=scale) for _ in range(1000)]\n",
    "    \n",
    "epsilon1 = 1.0\n",
    "epsilon2 = 2.0\n",
    "\n",
    "plt.hist(empirical_dist_lap(1/epsilon1), bins=50)\n",
    "plt.hist(empirical_dist_lap(1/epsilon2), bins=50, alpha=.7)"
   ]
  },
  {
   "cell_type": "code",
   "execution_count": null,
   "metadata": {
    "deletable": false,
    "editable": false,
    "nbgrader": {
     "cell_type": "code",
     "checksum": "4ae51dc3beb1b2d1b08e84aad405fa17",
     "grade": true,
     "grade_id": "cell-e68891bb70939fd0",
     "locked": true,
     "points": 5,
     "schema_version": 3,
     "solution": false,
     "task": false
    },
    "pycharm": {
     "name": "#%%\n"
    }
   },
   "outputs": [],
   "source": [
    "# PLACEHOLDER for test cases\n"
   ]
  },
  {
   "cell_type": "code",
   "execution_count": 14,
   "metadata": {
    "pycharm": {
     "name": "#%%\n"
    }
   },
   "outputs": [
    {
     "data": {
      "text/plain": "2.718281828459045"
     },
     "execution_count": 14,
     "metadata": {},
     "output_type": "execute_result"
    }
   ],
   "source": [
    "np.exp(1)"
   ]
  },
  {
   "cell_type": "code",
   "execution_count": 15,
   "metadata": {
    "pycharm": {
     "name": "#%%\n"
    }
   },
   "outputs": [
    {
     "name": "stdout",
     "output_type": "stream",
     "text": [
      "-10.713128139876593 10.0 6.0 1.6666666666666667\n",
      "-8.441269809997385 101.0 38.0 2.6578947368421053\n",
      "-6.1694114801181765 897.0 338.0 2.6538461538461537\n",
      "-3.897553150238968 8727.0 3273.0 2.666361136571952\n",
      "-1.6256948203597599 64032.0 31515.0 2.031794383626844\n",
      "0.6461635095194485 23500.0 57447.0 0.4090727104983724\n",
      "2.918021839398657 2448.0 6629.0 0.3692864685472922\n",
      "5.189880169277865 260.0 677.0 0.38404726735598227\n",
      "7.461738499157073 21.0 68.0 0.3088235294117647\n",
      "9.733596829036282 4.0 8.0 0.5\n"
     ]
    },
    {
     "data": {
      "text/plain": "<Figure size 432x288 with 1 Axes>",
      "image/png": "[encoded data removed]"
     },
     "metadata": {},
     "output_type": "display_data"
    }
   ],
   "source": [
    "counts1, bins, _ = plt.hist([np.random.laplace(loc=0, scale=1/1) for _ in range(100000)], bins=10)\n",
    "counts2, _, _ = plt.hist([np.random.laplace(loc=1, scale=1/1) for _ in range(100000)], bins=bins, alpha=.5)\n",
    "list(zip(bins, counts1, counts2))\n",
    "\n",
    "for bin_val, count1, count2 in zip(bins,counts1,counts2):\n",
    "    print(bin_val, count1, count2, count1 / count2)"
   ]
  },
  {
   "cell_type": "markdown",
   "metadata": {
    "pycharm": {
     "name": "#%% md\n"
    }
   },
   "source": [
    "## Question 5\n",
    "\n",
    "Consider the program below."
   ]
  },
  {
   "cell_type": "code",
   "execution_count": 16,
   "metadata": {
    "pycharm": {
     "name": "#%%\n"
    }
   },
   "outputs": [
    {
     "name": "stdout",
     "output_type": "stream",
     "text": [
      "4.423026245201427 1.2651622820391621 7.595851209888898\n"
     ]
    }
   ],
   "source": [
    "counting_query = lambda: 1\n",
    "\n",
    "result_1 = counting_query() + np.random.laplace(loc=0, scale=1/epsilon1)\n",
    "result_2 = counting_query() + np.random.laplace(loc=0, scale=1/epsilon2)\n",
    "result_3 = counting_query() + np.random.laplace(loc=0, scale=1/epsilon1)\n",
    "\n",
    "print(result_1, result_2, result_3)"
   ]
  },
  {
   "cell_type": "markdown",
   "metadata": {
    "pycharm": {
     "name": "#%% md\n"
    }
   },
   "source": [
    "Write a function `total_epsilon` that returns the total privacy cost for this program."
   ]
  },
  {
   "cell_type": "code",
   "execution_count": null,
   "metadata": {
    "deletable": false,
    "nbgrader": {
     "cell_type": "code",
     "checksum": "acf2948c80694922d54ad353bd5dfce3",
     "grade": false,
     "grade_id": "cell-32b1cdb0a2990e8f",
     "locked": false,
     "schema_version": 3,
     "solution": true,
     "task": false
    },
    "pycharm": {
     "name": "#%%\n"
    }
   },
   "outputs": [],
   "source": [
    "def total_epsilon():\n",
    "    return epsilon1 + epsilon2 + epsilon1"
   ]
  },
  {
   "cell_type": "code",
   "execution_count": null,
   "metadata": {
    "deletable": false,
    "editable": false,
    "nbgrader": {
     "cell_type": "code",
     "checksum": "77f0d3f25290c6a4d64e9fed5fdb91fe",
     "grade": true,
     "grade_id": "cell-e484920fc1429ad0",
     "locked": true,
     "points": 5,
     "schema_version": 3,
     "solution": false,
     "task": false
    },
    "pycharm": {
     "name": "#%%\n"
    }
   },
   "outputs": [],
   "source": [
    "# Placeholder for test case\n"
   ]
  }
 ],
 "metadata": {
  "kernelspec": {
   "display_name": "Python 3 (ipykernel)",
   "language": "python",
   "name": "python3"
  },
  "language_info": {
   "codemirror_mode": {
    "name": "ipython",
    "version": 3
   },
   "file_extension": ".py",
   "mimetype": "text/x-python",
   "name": "python",
   "nbconvert_exporter": "python",
   "pygments_lexer": "ipython3",
   "version": "3.8.11"
  }
 },
 "nbformat": 4,
 "nbformat_minor": 4
}