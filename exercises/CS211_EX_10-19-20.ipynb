{
 "cells": [
  {
   "cell_type": "markdown",
   "metadata": {},
   "source": [
    "# CS211: Data Privacy\n",
    "## In-Class Exercise, 10/19/2020"
   ]
  },
  {
   "cell_type": "code",
   "execution_count": null,
   "metadata": {},
   "outputs": [],
   "source": [
    "# Load the data and libraries\n",
    "import pandas as pd\n",
    "import numpy as np\n",
    "from scipy import stats\n",
    "import matplotlib.pyplot as plt\n",
    "plt.style.use('seaborn-whitegrid')\n",
    "\n",
    "def laplace_mech(v, sensitivity, epsilon):\n",
    "    return v + np.random.laplace(loc=0, scale=sensitivity / epsilon)\n",
    "\n",
    "def gaussian_mech(v, sensitivity, epsilon, delta):\n",
    "    return v + np.random.normal(loc=0, scale=sensitivity * np.sqrt(2*np.log(1.25/delta)) / epsilon)\n",
    "\n",
    "def pct_error(orig, priv):\n",
    "    return np.abs(orig - priv)/orig * 100.0\n",
    "\n",
    "adult = pd.read_csv('https://github.com/jnear/cs211-data-privacy/raw/master/homework/adult_with_pii.csv')"
   ]
  },
  {
   "cell_type": "markdown",
   "metadata": {},
   "source": [
    "## Question 1\n",
    "\n",
    "Use the Propose-Test-Release (PTR) framework to calculate the mean age in the adult dataset with differential privacy."
   ]
  },
  {
   "cell_type": "code",
   "execution_count": null,
   "metadata": {
    "deletable": false,
    "nbgrader": {
     "cell_type": "code",
     "checksum": "6b244b7a0bea6a993529b548cf5d5fe6",
     "grade": false,
     "grade_id": "cell-62e95c3348999e9a",
     "locked": false,
     "schema_version": 3,
     "solution": true,
     "task": false
    }
   },
   "outputs": [],
   "source": [
    "def ls_mean_at_distance(df, b, k):\n",
    "    return np.abs(b/(len(df) - k))\n",
    "\n",
    "def dist_to_high_ls_mean(df, b, s):\n",
    "    k = 0\n",
    "    \n",
    "    while ls_mean_at_distance(df, b, k) < s:\n",
    "        k += 1\n",
    "    \n",
    "    return k\n",
    "    \n",
    "def mean_ptr(epsilon, delta):\n",
    "    # YOUR CODE HERE\n",
    "    raise NotImplementedError()\n",
    "\n",
    "mean_ptr(1.0, 10e-5)"
   ]
  },
  {
   "cell_type": "code",
   "execution_count": null,
   "metadata": {
    "deletable": false,
    "editable": false,
    "nbgrader": {
     "cell_type": "code",
     "checksum": "1ebb4a2cb36fc47793f19dc8f5b4067a",
     "grade": true,
     "grade_id": "cell-efb8d6da908b8ae9",
     "locked": true,
     "points": 5,
     "schema_version": 3,
     "solution": false,
     "task": false
    }
   },
   "outputs": [],
   "source": [
    "# TEST CASE\n",
    "\n",
    "true_answer = adult['Age'].mean()\n",
    "trials = [mean_ptr(1.0, 10e-5) for _ in range(20)]\n",
    "errors = [pct_error(true_answer, x) for x in trials]\n",
    "assert np.mean(errors) < 1.0"
   ]
  },
  {
   "cell_type": "markdown",
   "metadata": {},
   "source": [
    "## Exploration: how low can the proposal be?"
   ]
  },
  {
   "cell_type": "code",
   "execution_count": null,
   "metadata": {},
   "outputs": [],
   "source": [
    "xs = np.linspace(0.001, 0.01)\n",
    "clipped_ages = adult['Age'].clip(lower=0, upper=125)\n",
    "ys = [dist_to_high_ls_mean(clipped_ages, 125, p) for p in xs]\n",
    "plt.plot(xs, ys);"
   ]
  },
  {
   "cell_type": "markdown",
   "metadata": {},
   "source": [
    "## Question 2\n",
    "\n",
    "Use the sample and aggregate framework to release the average age in the `adult` dataset with differential privacy. [See reference here](https://uvm-plaid.github.io/programming-dp/notebooks/ch7.html#sample-and-aggregate)."
   ]
  },
  {
   "cell_type": "code",
   "execution_count": null,
   "metadata": {
    "deletable": false,
    "nbgrader": {
     "cell_type": "code",
     "checksum": "244dbd1a26099f5ba95080520e844dc5",
     "grade": false,
     "grade_id": "cell-1844b42041061beb",
     "locked": false,
     "schema_version": 3,
     "solution": true,
     "task": false
    }
   },
   "outputs": [],
   "source": [
    "def f(series):\n",
    "    return series.mean()\n",
    "\n",
    "def saa_avg_age(k, epsilon):\n",
    "    # YOUR CODE HERE\n",
    "    raise NotImplementedError()\n",
    "\n",
    "saa_avg_age(200, 1)"
   ]
  },
  {
   "cell_type": "code",
   "execution_count": null,
   "metadata": {
    "deletable": false,
    "editable": false,
    "nbgrader": {
     "cell_type": "code",
     "checksum": "d2709f67a94cb87dfdac39bc3ca02e01",
     "grade": true,
     "grade_id": "cell-9a6b4d98ce3b93f9",
     "locked": true,
     "points": 5,
     "schema_version": 3,
     "solution": false,
     "task": false
    }
   },
   "outputs": [],
   "source": [
    "# TEST CASE\n",
    "\n",
    "true_answer = adult['Age'].mean()\n",
    "trials = [saa_avg_age(200, 1.0) for _ in range(20)]\n",
    "errors = [pct_error(true_answer, x) for x in trials]\n",
    "assert np.mean(errors) < 3.0"
   ]
  }
 ],
 "metadata": {
  "kernelspec": {
   "display_name": "Python 3",
   "language": "python",
   "name": "python3"
  },
  "language_info": {
   "codemirror_mode": {
    "name": "ipython",
    "version": 3
   },
   "file_extension": ".py",
   "mimetype": "text/x-python",
   "name": "python",
   "nbconvert_exporter": "python",
   "pygments_lexer": "ipython3",
   "version": "3.6.10"
  }
 },
 "nbformat": 4,
 "nbformat_minor": 4
}
