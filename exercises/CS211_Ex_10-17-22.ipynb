{
 "cells": [
  {
   "cell_type": "markdown",
   "metadata": {
    "pycharm": {
     "name": "#%% md\n"
    }
   },
   "source": [
    "# CS211: Data Privacy\n",
    "## In-Class Exercise, week of 10/17/2022"
   ]
  },
  {
   "cell_type": "code",
   "execution_count": 5,
   "metadata": {
    "pycharm": {
     "name": "#%%\n"
    }
   },
   "outputs": [],
   "source": [
    "# Load the data and libraries\n",
    "import pandas as pd\n",
    "import numpy as np\n",
    "from scipy import stats\n",
    "import matplotlib.pyplot as plt\n",
    "plt.style.use('seaborn-whitegrid')\n",
    "\n",
    "def laplace_mech(v, sensitivity, epsilon):\n",
    "    return v + np.random.laplace(loc=0, scale=sensitivity / epsilon)\n",
    "\n",
    "def gaussian_mech(v, sensitivity, epsilon, delta):\n",
    "    return v + np.random.normal(loc=0, scale=sensitivity * np.sqrt(2*np.log(1.25/delta)) / epsilon)\n",
    "\n",
    "def pct_error(orig, priv):\n",
    "    return np.abs(orig - priv)/orig * 100.0\n",
    "\n",
    "adult = pd.read_csv('https://github.com/jnear/cs211-data-privacy/raw/master/homework/adult_with_pii.csv')"
   ]
  },
  {
   "cell_type": "code",
   "execution_count": 6,
   "metadata": {
    "pycharm": {
     "name": "#%%\n"
    }
   },
   "outputs": [],
   "source": [
    "def gaussian_mech_RDP(val, sensitivity, alpha, epsilon):\n",
    "    sigma = np.sqrt((sensitivity**2 * alpha) / (2 * epsilon))\n",
    "    return val + np.random.normal(loc=0, scale=sigma)"
   ]
  },
  {
   "cell_type": "markdown",
   "metadata": {
    "pycharm": {
     "name": "#%% md\n"
    }
   },
   "source": [
    "## Question 1\n",
    "\n",
    "Use the sample-and-aggregate framework to calculate the sum of ages in the adult dataset with differential privacy."
   ]
  },
  {
   "cell_type": "code",
   "execution_count": 7,
   "metadata": {
    "deletable": false,
    "nbgrader": {
     "cell_type": "code",
     "checksum": "dcba211d82454e826cc2b518b128a942",
     "grade": true,
     "grade_id": "cell-8afedb58ded17a79",
     "locked": false,
     "points": 5,
     "schema_version": 3,
     "solution": true,
     "task": false
    },
    "pycharm": {
     "name": "#%%\n"
    }
   },
   "outputs": [
    {
     "data": {
      "text/plain": "1257327.953336862"
     },
     "execution_count": 7,
     "metadata": {},
     "output_type": "execute_result"
    }
   ],
   "source": [
    "def saa_avg_age(k, epsilon):\n",
    "    df = adult['Age']\n",
    "\n",
    "    chunk_size = int(np.ceil(df.shape[0] / k))\n",
    "    # split the data into chunks\n",
    "    chunks = [df[i:i + chunk_size] for i in range(0, df.shape[0], chunk_size)]\n",
    "\n",
    "    # run the query on each chunk\n",
    "    answers = [chunk.sum() for chunk in chunks]\n",
    "\n",
    "    # clip the answers with parameter b\n",
    "    upper = 2500\n",
    "    lower = 1000\n",
    "    clipped_answers = np.clip(answers, lower, upper)\n",
    "    sensitivity = upper - lower\n",
    "\n",
    "    # sum the clipped answers (sensitivity b)\n",
    "    sum_result = np.sum(clipped_answers)\n",
    "\n",
    "    # add noise to the sum (scale = b / epsilon)\n",
    "    noisy_sum = laplace_mech(sum_result, sensitivity, epsilon)\n",
    "    return noisy_sum\n",
    "saa_avg_age(600, 1)    "
   ]
  },
  {
   "cell_type": "markdown",
   "metadata": {
    "pycharm": {
     "name": "#%% md\n"
    }
   },
   "source": [
    "## Question 2\n",
    "\n",
    "What is the impact of the parameter `k`?"
   ]
  },
  {
   "cell_type": "markdown",
   "metadata": {
    "deletable": false,
    "nbgrader": {
     "cell_type": "markdown",
     "checksum": "4df7be71657062c57b91e5edfa815e26",
     "grade": true,
     "grade_id": "cell-6f57645dec8e7707",
     "locked": false,
     "points": 5,
     "schema_version": 3,
     "solution": true,
     "task": false
    },
    "pycharm": {
     "name": "#%% md\n"
    }
   },
   "source": [
    "k is the number of chunks, large k means many small (few rows) chunks, small k means few big (many rows) chunks"
   ]
  },
  {
   "cell_type": "markdown",
   "metadata": {
    "pycharm": {
     "name": "#%% md\n"
    }
   },
   "source": [
    "## Question 3\n",
    "\n",
    "Calculate the empirical *cumulative distribution function* of ages in the adult dataset. Use the RDP Gaussian mechanism."
   ]
  },
  {
   "cell_type": "code",
   "execution_count": 10,
   "metadata": {
    "deletable": false,
    "nbgrader": {
     "cell_type": "code",
     "checksum": "b6fc960f3402360a7bc52a719251ef78",
     "grade": true,
     "grade_id": "cell-ce242a7d80d36e05",
     "locked": false,
     "points": 5,
     "schema_version": 3,
     "solution": true,
     "task": false
    },
    "pycharm": {
     "name": "#%%\n"
    }
   },
   "outputs": [
    {
     "data": {
      "text/plain": "<Figure size 640x480 with 1 Axes>",
      "image/png": "[encoded data removed]"
     },
     "metadata": {},
     "output_type": "display_data"
    }
   ],
   "source": [
    "def calculate_cdf():\n",
    "    alpha = 5 # bigger = more noise\n",
    "    epsilon = 0.0001 # bigger = less noise\n",
    "    # typical values are much smaller than the epsilon values in pure-epsilon or (epsilon, delta) DP\n",
    "    \n",
    "    true_cdf = [len(adult[adult['Age'] < x]) for x in range(20, 80)]\n",
    "    noisy_cdf = [gaussian_mech_RDP(x, np.sqrt(60), alpha, epsilon) for x in true_cdf]\n",
    "    return noisy_cdf\n",
    "\n",
    "cdf_vals = calculate_cdf()\n",
    "plt.plot(range(20, 80), cdf_vals);"
   ]
  },
  {
   "cell_type": "markdown",
   "metadata": {
    "pycharm": {
     "name": "#%% md\n"
    }
   },
   "source": [
    "## Question 4\n",
    "\n",
    "What is the *total privacy cost* in RDP of your solution above?"
   ]
  },
  {
   "cell_type": "markdown",
   "metadata": {
    "deletable": false,
    "nbgrader": {
     "cell_type": "markdown",
     "checksum": "66011a9bb25085fbf849ca23d681d892",
     "grade": true,
     "grade_id": "cell-234f1767c58fcaff",
     "locked": false,
     "points": 5,
     "schema_version": 3,
     "solution": true,
     "task": false
    },
    "pycharm": {
     "name": "#%% md\n"
    }
   },
   "source": [
    "We use L2 sensitivity for the CDF vector, eqch query is a counting query so it has a sensitivity 1, thus the total sensitivity is sqrt(60)\n",
    "\n",
    "We call the gaussian mechanism one time, for a total privacy cost of (alpha, epsilon)-RDP\n",
    "\n",
    "We immediately return the noisy results"
   ]
  },
  {
   "cell_type": "code",
   "execution_count": 11,
   "outputs": [
    {
     "data": {
      "text/plain": "0.3349576625504128"
     },
     "execution_count": 11,
     "metadata": {},
     "output_type": "execute_result"
    }
   ],
   "source": [
    "def convert_rdp(alpha, epsilon_bar, delta):\n",
    "    epsilon = epsilon_bar + (np.log(1/delta) / (alpha - 1))\n",
    "    return epsilon\n",
    "\n",
    "convert_rdp(50, .1, 1e-5)"
   ],
   "metadata": {
    "collapsed": false,
    "pycharm": {
     "name": "#%%\n"
    }
   }
  },
  {
   "cell_type": "markdown",
   "metadata": {
    "pycharm": {
     "name": "#%% md\n"
    }
   },
   "source": [
    "## Question 5\n",
    "\n",
    "What is the *total privacy cost* in $(\\epsilon, \\delta)$-differential privacy of your solution above, for $\\delta = 10^{-5}$?"
   ]
  },
  {
   "cell_type": "markdown",
   "metadata": {
    "deletable": false,
    "nbgrader": {
     "cell_type": "markdown",
     "checksum": "ea39a2395bec967af44baa74c6ab5d99",
     "grade": true,
     "grade_id": "cell-f492eea07aa320fc",
     "locked": false,
     "points": 5,
     "schema_version": 3,
     "solution": true,
     "task": false
    },
    "pycharm": {
     "name": "#%% md\n"
    }
   },
   "source": [
    "the total privacy cost is (2.878, 1e-5)-differential privacy"
   ]
  },
  {
   "cell_type": "markdown",
   "metadata": {
    "pycharm": {
     "name": "#%% md\n"
    }
   },
   "source": [
    "## Question 6\n",
    "\n",
    "Repeat question 3, but for zero-concentrated differential privacy."
   ]
  },
  {
   "cell_type": "code",
   "execution_count": null,
   "metadata": {
    "deletable": false,
    "nbgrader": {
     "cell_type": "code",
     "checksum": "ba7a741ebf3d69e39ba28183ad098c75",
     "grade": true,
     "grade_id": "cell-1854b003d5ab2ebf",
     "locked": false,
     "points": 5,
     "schema_version": 3,
     "solution": true,
     "task": false
    },
    "pycharm": {
     "name": "#%%\n"
    }
   },
   "outputs": [],
   "source": [
    "def convert_zcdp(rho, delta):\n",
    "    return rho + np.sqrt(rho * np.log(1/delta))\n",
    "\n",
    "def gaussian_mech_zCDP(val, sensitivity, rho):\n",
    "    sigma_sq = sensitivity ** 2 / (2 * rho)\n",
    "    sigma = np.sqrt(sigma_sq)\n",
    "    return val + np.random.normal(loc=0, scale = sigma)\n",
    "\n",
    "def calculate_cdf_zcdp():\n",
    "    rho = 0.00001\n",
    "    \n",
    "    true_cdf = [len(adult[adult['Age'] < x]) for x in range(20, 80)]\n",
    "    noisy_cdf = [gaussian_mech_zCDP(x, np.sqrt(60), rho) for x in true_cdf]\n",
    "    return noisy_cdf\n",
    "\n",
    "cdf_vals = calculate_cdf_zcdp()\n",
    "plt.plot(range(20, 80), cdf_vals);"
   ]
  }
 ],
 "metadata": {
  "kernelspec": {
   "display_name": "Python 3 (ipykernel)",
   "language": "python",
   "name": "python3"
  },
  "language_info": {
   "codemirror_mode": {
    "name": "ipython",
    "version": 3
   },
   "file_extension": ".py",
   "mimetype": "text/x-python",
   "name": "python",
   "nbconvert_exporter": "python",
   "pygments_lexer": "ipython3",
   "version": "3.10.4"
  }
 },
 "nbformat": 4,
 "nbformat_minor": 4
}